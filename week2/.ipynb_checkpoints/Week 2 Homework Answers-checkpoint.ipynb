{
 "cells": [
  {
   "cell_type": "markdown",
   "metadata": {},
   "source": [
    "# Week 2 Homework Answers:\n",
    "This notebook contains the answers to the week 2 homework. There our multiple ways to answer these problem. The answer here only use what we have learned in class. (There are other ways using techniques / functions we have not yet learned)"
   ]
  },
  {
   "cell_type": "markdown",
   "metadata": {},
   "source": [
    "## Problem 1:\n",
    "Please complete the function, stringEvenOrOdd(inputString), that takes a string as input and returns ‘even’ or ‘odd’ (note the lower case) depending on if the string length is even or odd."
   ]
  },
  {
   "cell_type": "code",
   "execution_count": 1,
   "metadata": {
    "collapsed": true
   },
   "outputs": [],
   "source": [
    "def stringEvenOrOdd(inputString):\n",
    "    if len(inputString) % 2 == 0:\n",
    "        return 'even'\n",
    "    else:\n",
    "        return 'odd'\n",
    "    # your code goes here\n",
    "    # be sure to include a 'return' statement at the end of the function.\n",
    "    # note that this cell will return an error if you run it now, without\n",
    "    # completing your function."
   ]
  },
  {
   "cell_type": "code",
   "execution_count": 2,
   "metadata": {},
   "outputs": [
    {
     "name": "stdout",
     "output_type": "stream",
     "text": [
      "odd\n"
     ]
    }
   ],
   "source": [
    "# test the function here:\n",
    "result = stringEvenOrOdd('apple')\n",
    "print(result)"
   ]
  },
  {
   "cell_type": "markdown",
   "metadata": {},
   "source": [
    "## Problem 2:\n",
    "In the cell below, please define the a function, lowerList(inputList). This function takes in a list of strings and outputs the same list, but with all characters lowercase.  If you input ['Apple', 'BITE'], the function will return ['apple', 'bite']. You are allowed to use the .lower() method to complete this function."
   ]
  },
  {
   "cell_type": "code",
   "execution_count": null,
   "metadata": {
    "collapsed": true
   },
   "outputs": [],
   "source": [
    "# First test the lower method here so that you can see what it does:\n",
    "myString = 'ApPLe'\n",
    "myStringLower = myString.lower()\n",
    "print(myStringLower)"
   ]
  },
  {
   "cell_type": "code",
   "execution_count": 3,
   "metadata": {
    "collapsed": true
   },
   "outputs": [],
   "source": [
    "# Now, define your function in this cell. Remember to start with the 'def'\n",
    "# keyword, just like you did in problem 1.\n",
    "def lowerList(stringList):\n",
    "    newList = []\n",
    "    for item in stringList:\n",
    "        newList.append(item.lower())\n",
    "    return newList"
   ]
  },
  {
   "cell_type": "code",
   "execution_count": 4,
   "metadata": {},
   "outputs": [
    {
     "name": "stdout",
     "output_type": "stream",
     "text": [
      "['susie', 'bob']\n"
     ]
    }
   ],
   "source": [
    "# Test your function here:\n",
    "result = lowerList(['SUSIE', 'BoB'])\n",
    "print(result)"
   ]
  },
  {
   "cell_type": "markdown",
   "metadata": {},
   "source": [
    "# Problem 3:\n",
    "Please define a function called wordCount(inputString). This function takes in a string and returns a dictionary that has keys for each unique word in the string. The corresponding values are the counts of each word.\n",
    "\n",
    "For example, if the string ‘I like small dogs and big dogs’ is passed to the function, it will return the dict, **{I:1, like:1, small:1, dogs:2, and:1, big:1}**.\n",
    "\n",
    "Hints: You just need to be able to:\n",
    "* Convert a string to a list of words. You can use the split method to do so. For example, try the following code in your console to see an example \"I like dogs\".split(\" \").  This code will split the string anywhere there is a \" \" (a space between the words)). It will create a list of the words.\n",
    "\n",
    "* Loop through the list (we saw this in the for loop lecture)\n",
    "\n",
    "* Add a key and value to a dictionary ( we saw this in the dictionary lecture)\n",
    "\n",
    "* Check if a key already exists in a dictionary. You can do so with the 'in' keyword. For example, try the following two lines of code in the console. The second line will return True since ‘apple’ is a key in the dictionary:\n",
    "    \n",
    "    myDictionary = {'apple': 1}\n",
    "    \n",
    "    'apple' in myDictionary\n",
    "    \n",
    "    \n",
    "* Be able to use an if/else statement to do one thing if the key is already in the dictionary, or another if it is not.\n",
    "\n",
    "* This question on the assignment is \"simple\" because it is using the basics, but it is definitely challenging in that it asks you to combine a bunch of basics.\n"
   ]
  },
  {
   "cell_type": "code",
   "execution_count": 5,
   "metadata": {},
   "outputs": [
    {
     "name": "stdout",
     "output_type": "stream",
     "text": [
      "['This', 'is', 'a', 'string', 'that', 'we', 'will', 'split', 'by', 'the', 'spaces']\n"
     ]
    }
   ],
   "source": [
    "# First, let's practice splitting a string by spaces:\n",
    "listOfWordsFromString = 'This is a string that we will split by the spaces'.split(' ')\n",
    "print(listOfWordsFromString)"
   ]
  },
  {
   "cell_type": "code",
   "execution_count": 6,
   "metadata": {},
   "outputs": [
    {
     "name": "stdout",
     "output_type": "stream",
     "text": [
      "True\n"
     ]
    }
   ],
   "source": [
    "# Second, we will practice checking if a key is already in a dictionary:\n",
    "myDictionary = {}\n",
    "myDictionary['the'] = 1\n",
    "\n",
    "if 'the' in myDictionary:\n",
    "    print(True)"
   ]
  },
  {
   "cell_type": "code",
   "execution_count": 9,
   "metadata": {
    "collapsed": true
   },
   "outputs": [],
   "source": [
    "# Now, define the function wordCount() in this cell.\n",
    "def wordCount(myString):\n",
    "    wordDict = {}\n",
    "    wordList = myString.split(' ')\n",
    "    for word in wordList:\n",
    "        if word in wordDict:\n",
    "            wordDict[word] = wordDict[word] + 1\n",
    "        else:\n",
    "            wordDict[word] = 1\n",
    "    return wordDict"
   ]
  },
  {
   "cell_type": "code",
   "execution_count": 10,
   "metadata": {},
   "outputs": [
    {
     "name": "stdout",
     "output_type": "stream",
     "text": [
      "{'I': 2, 'like': 2, 'cats': 1, 'and': 1, 'dogs': 1}\n"
     ]
    }
   ],
   "source": [
    "# Now, test the function\n",
    "results = wordCount('I like cats and I like dogs')\n",
    "print(results)"
   ]
  },
  {
   "cell_type": "code",
   "execution_count": null,
   "metadata": {
    "collapsed": true
   },
   "outputs": [],
   "source": []
  }
 ],
 "metadata": {
  "hide_input": false,
  "kernelspec": {
   "display_name": "Python 3",
   "language": "python",
   "name": "python3"
  },
  "language_info": {
   "codemirror_mode": {
    "name": "ipython",
    "version": 3
   },
   "file_extension": ".py",
   "mimetype": "text/x-python",
   "name": "python",
   "nbconvert_exporter": "python",
   "pygments_lexer": "ipython3",
   "version": "3.8.8"
  }
 },
 "nbformat": 4,
 "nbformat_minor": 2
}
