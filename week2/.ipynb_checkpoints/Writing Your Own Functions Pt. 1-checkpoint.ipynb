{
 "cells": [
  {
   "cell_type": "markdown",
   "metadata": {},
   "source": [
    "# Writing Your Own Functions\n",
    "\n",
    "## Motivating Example\n",
    "In the code below we have a hypothetical scenario where we need to check if the length of a string is even or odd, and then we print even or odd depending on the result.  Imagine we have to repeat this three times in a longer script. It would be a lot easier if we did not need to actualy repeat this code three times - it would be easier to write and easier to maintain."
   ]
  },
  {
   "cell_type": "code",
   "execution_count": 1,
   "metadata": {},
   "outputs": [
    {
     "name": "stdout",
     "output_type": "stream",
     "text": [
      "Even\n",
      "Odd\n",
      "Odd\n"
     ]
    }
   ],
   "source": [
    "myString = 'California'\n",
    "if len(myString) % 2 == 0:\n",
    "    print('Even')\n",
    "else:\n",
    "    print('Odd')\n",
    "    \n",
    "# A bunch of code here....\n",
    "    \n",
    "myString = 'Apple'\n",
    "if len(myString) % 2 == 0:\n",
    "    print('Even')\n",
    "else:\n",
    "    print('Odd')\n",
    "    \n",
    "# A bunch of code here....\n",
    "    \n",
    "myString = 'Tesla'\n",
    "if len(myString) % 2 == 0:\n",
    "    print('Even')\n",
    "else:\n",
    "    print('Odd')"
   ]
  },
  {
   "cell_type": "markdown",
   "metadata": {},
   "source": [
    "## How to write your own function in Python\n",
    "Instead of repeating the code multipl times, like we did in the above cell, we will contain the code in a function and then use that function as many times as needed.\n",
    "\n",
    "I will talk through the syntax used below in the lecture."
   ]
  },
  {
   "cell_type": "code",
   "execution_count": 2,
   "metadata": {},
   "outputs": [],
   "source": [
    "def stringEvenorOdd(string):\n",
    "    if len(string) % 2 == 0:\n",
    "        evenOrOdd = 'Even'\n",
    "    else:\n",
    "        evenOrOdd = 'Odd'\n",
    "    return evenOrOdd"
   ]
  },
  {
   "cell_type": "markdown",
   "metadata": {},
   "source": [
    "## Now we use the function.\n",
    "This is the same cell as the one just a couple cells below, but now we are using the function, and we do not need to rewrite the block of code multiple times. It is also easy to update the function, which I will show in the video lecture."
   ]
  },
  {
   "cell_type": "code",
   "execution_count": 3,
   "metadata": {},
   "outputs": [
    {
     "name": "stdout",
     "output_type": "stream",
     "text": [
      "Even\n",
      "Odd\n",
      "Odd\n"
     ]
    }
   ],
   "source": [
    "print(stringEvenorOdd('California'))\n",
    "\n",
    "print(stringEvenorOdd('Apple'))\n",
    "\n",
    "print(stringEvenorOdd('Tesla'))"
   ]
  },
  {
   "cell_type": "markdown",
   "metadata": {},
   "source": [
    "# Practice Exercises:"
   ]
  },
  {
   "cell_type": "code",
   "execution_count": 4,
   "metadata": {},
   "outputs": [
    {
     "ename": "SyntaxError",
     "evalue": "unexpected EOF while parsing (<ipython-input-4-0fb42d772cef>, line 26)",
     "output_type": "error",
     "traceback": [
      "\u001b[0;36m  File \u001b[0;32m\"<ipython-input-4-0fb42d772cef>\"\u001b[0;36m, line \u001b[0;32m26\u001b[0m\n\u001b[0;31m    # remember to use the return keyword to return the result you want.\u001b[0m\n\u001b[0m                                                                       ^\u001b[0m\n\u001b[0;31mSyntaxError\u001b[0m\u001b[0;31m:\u001b[0m unexpected EOF while parsing\n"
     ]
    }
   ],
   "source": [
    "import math\n",
    "# In this cell please create the two following functions:\n",
    "\n",
    "# 1\n",
    "# A function that will take a string and a number as arguments, and then will \n",
    "# print the string that number of times.  See the outline below:\n",
    "\n",
    "def printStringNTimes(myString, N):\n",
    "    # put a for loop here that loops N times\n",
    "    # inside the for loop, use print to print the string.\n",
    "    return \n",
    "\n",
    "name = 'Tim'\n",
    "Num = 5\n",
    "printStringNTimes(name, Num)\n",
    "\n",
    "    \n",
    "# 2 write a function that calculates the area of a circle. The function will\n",
    "# take the radius of the circle as an argument.  The formula for the area of \n",
    "# a cricle is: area = pi * (radius**2). You can access the constant pi via the \n",
    "# math library that has been imported above; you can acces pi with math.pi.\n",
    "# And remember that the double ** indicates raising a number to a power.\n",
    "def circleArea(r):\n",
    "    # use math.pi for pi\n",
    "    \n",
    "    # remember to use the return keyword to return the result you want."
   ]
  },
  {
   "cell_type": "code",
   "execution_count": null,
   "metadata": {},
   "outputs": [],
   "source": []
  }
 ],
 "metadata": {
  "anaconda-cloud": {},
  "hide_input": false,
  "kernelspec": {
   "display_name": "Python 3",
   "language": "python",
   "name": "python3"
  },
  "language_info": {
   "codemirror_mode": {
    "name": "ipython",
    "version": 3
   },
   "file_extension": ".py",
   "mimetype": "text/x-python",
   "name": "python",
   "nbconvert_exporter": "python",
   "pygments_lexer": "ipython3",
   "version": "3.8.8"
  },
  "nbpresent": {
   "slides": {
    "1eb9c367-bcaf-4e95-8e87-66ca8b929e02": {
     "id": "1eb9c367-bcaf-4e95-8e87-66ca8b929e02",
     "prev": "9fa66828-4543-49c8-b52b-3e0eb72ec7d6",
     "regions": {
      "c8939296-ff76-4813-98ad-ed53e80bdd2f": {
       "attrs": {
        "height": 1,
        "width": 1,
        "x": 0,
        "y": 0
       },
       "id": "c8939296-ff76-4813-98ad-ed53e80bdd2f"
      }
     }
    },
    "3ef0b1c1-2e3b-4f42-b412-60d20b1a6a14": {
     "id": "3ef0b1c1-2e3b-4f42-b412-60d20b1a6a14",
     "prev": "1eb9c367-bcaf-4e95-8e87-66ca8b929e02",
     "regions": {
      "130dd85d-d697-4712-a4ad-4bcb73f8c7b3": {
       "attrs": {
        "height": 1,
        "width": 1,
        "x": 0,
        "y": 0
       },
       "content": {
        "cell": "e37bcd78-51ee-40ac-8d93-08a1cd314042",
        "part": "source"
       },
       "id": "130dd85d-d697-4712-a4ad-4bcb73f8c7b3"
      }
     }
    },
    "9fa66828-4543-49c8-b52b-3e0eb72ec7d6": {
     "id": "9fa66828-4543-49c8-b52b-3e0eb72ec7d6",
     "prev": null,
     "regions": {
      "46b00d61-d0ab-4c22-b9e1-387ad6e33f1d": {
       "attrs": {
        "height": 1,
        "width": 1,
        "x": 0,
        "y": 0
       },
       "content": {
        "cell": "5a89285e-9f84-41f9-8186-ec8e4a823342",
        "part": "source"
       },
       "id": "46b00d61-d0ab-4c22-b9e1-387ad6e33f1d"
      }
     }
    }
   },
   "themes": {}
  }
 },
 "nbformat": 4,
 "nbformat_minor": 1
}
