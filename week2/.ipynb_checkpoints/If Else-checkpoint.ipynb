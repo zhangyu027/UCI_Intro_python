{
 "cells": [
  {
   "cell_type": "markdown",
   "metadata": {},
   "source": [
    "# If/Else\n",
    "If/Else blocks are our first look at a topic called 'flow' control! Flow control refers to methods that allow our script/program to do one thing or another depending on the current state of the program. Note the colons at the end of each 'if', 'else', and 'elif' line and the indentation each if/elif/else statement - this is mandatory!\n"
   ]
  },
  {
   "cell_type": "code",
   "execution_count": 1,
   "metadata": {},
   "outputs": [
    {
     "name": "stdout",
     "output_type": "stream",
     "text": [
      "long word\n"
     ]
    }
   ],
   "source": [
    "# First Example:\n",
    "myWord = 'basil'\n",
    "\n",
    "if len(myWord) <= 3:\n",
    "    print('short word')\n",
    "else:\n",
    "    print('long word')"
   ]
  },
  {
   "cell_type": "code",
   "execution_count": 2,
   "metadata": {},
   "outputs": [
    {
     "name": "stdout",
     "output_type": "stream",
     "text": [
      "The shipping cost is  5\n"
     ]
    }
   ],
   "source": [
    "# For example, consider a script that determines shipping cost based on the\n",
    "# weight of a package:\n",
    "packageWeight = 8\n",
    "\n",
    "if packageWeight < 10:\n",
    "    cost = 5\n",
    "elif packageWeight >= 10 and packageWeight < 15:\n",
    "    cost = 7\n",
    "else: # package must have a weight >= 15 if the above if/else blocks havennot been triggered.\n",
    "    cost = 15\n",
    "    \n",
    "print('The shipping cost is ', cost)"
   ]
  },
  {
   "cell_type": "code",
   "execution_count": 3,
   "metadata": {},
   "outputs": [
    {
     "name": "stdout",
     "output_type": "stream",
     "text": [
      "The shipping cost is  18\n"
     ]
    }
   ],
   "source": [
    "# Note that we can have as many 'elif' portions of an if/else statment as needed:\n",
    "packageWeight = 40\n",
    "if packageWeight < 10:\n",
    "    cost = 5\n",
    "elif packageWeight >= 10 and packageWeight < 15:\n",
    "    cost = 7\n",
    "elif packageWeight >= 15 and packageWeight < 20:\n",
    "    cost = 10\n",
    "elif packageWeight >= 20 and packageWeight < 35:\n",
    "    cost = 12\n",
    "else: # package must have a weight >= 35 if the above if/else blocks haven not been triggered.\n",
    "    cost = 18\n",
    "    \n",
    "print('The shipping cost is ', cost)"
   ]
  },
  {
   "cell_type": "code",
   "execution_count": 4,
   "metadata": {},
   "outputs": [],
   "source": [
    "# In the space below please create an if else block that will print the\n",
    "# following statements based on the values of the variable a and b (shown below)\n",
    "\n",
    "# if a and b are both positive, print 'both a and b are positive'\n",
    "# if a and b are both negative, print 'both a and b are negative'\n",
    "# if a and b are not both negative or positive, then print 'a and b are not\n",
    "# both positive or both negative'\n",
    "\n",
    "# remember you can capture one of the conditions above in the 'else' block.\n",
    "\n",
    "# once you have created this if/else block, test it by changing the values of a, b\n",
    "\n",
    "a = 2\n",
    "b = -7\n",
    "\n"
   ]
  },
  {
   "cell_type": "code",
   "execution_count": 5,
   "metadata": {},
   "outputs": [
    {
     "name": "stdout",
     "output_type": "stream",
     "text": [
      "files found\n"
     ]
    }
   ],
   "source": [
    "# Often, an if else block will be built around if a list is empty. For example,\n",
    "# you could scan a directory for data files and store the file paths in a list.\n",
    "# You then need to check if the list is empty or not - it might be empty if no\n",
    "# files were found in the directory. We see that example below, not that the boolean\n",
    "# value of an empty list is False, while the boolean value of a non-empty list\n",
    "# is True.\n",
    "\n",
    "listOfFiles = ['a.txt']\n",
    "\n",
    "if listOfFiles:\n",
    "    print('files found')\n",
    "else: # the list is empty\n",
    "    print('no files found')\n",
    "    "
   ]
  },
  {
   "cell_type": "code",
   "execution_count": 6,
   "metadata": {},
   "outputs": [
    {
     "name": "stdout",
     "output_type": "stream",
     "text": [
      "3.4\n"
     ]
    }
   ],
   "source": [
    "# One more interesting example:\n",
    "myTuple = (-1.1, 3.4, 0)\n",
    "\n",
    "if myTuple[2] == 0 and myTuple[0] < 0:\n",
    "    print(myTuple[1])"
   ]
  },
  {
   "cell_type": "code",
   "execution_count": null,
   "metadata": {
    "collapsed": true
   },
   "outputs": [],
   "source": []
  }
 ],
 "metadata": {
  "anaconda-cloud": {},
  "hide_input": false,
  "kernelspec": {
   "display_name": "Python 3",
   "language": "python",
   "name": "python3"
  },
  "language_info": {
   "codemirror_mode": {
    "name": "ipython",
    "version": 3
   },
   "file_extension": ".py",
   "mimetype": "text/x-python",
   "name": "python",
   "nbconvert_exporter": "python",
   "pygments_lexer": "ipython3",
   "version": "3.8.8"
  },
  "nbpresent": {
   "slides": {
    "1eb9c367-bcaf-4e95-8e87-66ca8b929e02": {
     "id": "1eb9c367-bcaf-4e95-8e87-66ca8b929e02",
     "prev": "9fa66828-4543-49c8-b52b-3e0eb72ec7d6",
     "regions": {
      "c8939296-ff76-4813-98ad-ed53e80bdd2f": {
       "attrs": {
        "height": 1,
        "width": 1,
        "x": 0,
        "y": 0
       },
       "id": "c8939296-ff76-4813-98ad-ed53e80bdd2f"
      }
     }
    },
    "3ef0b1c1-2e3b-4f42-b412-60d20b1a6a14": {
     "id": "3ef0b1c1-2e3b-4f42-b412-60d20b1a6a14",
     "prev": "1eb9c367-bcaf-4e95-8e87-66ca8b929e02",
     "regions": {
      "130dd85d-d697-4712-a4ad-4bcb73f8c7b3": {
       "attrs": {
        "height": 1,
        "width": 1,
        "x": 0,
        "y": 0
       },
       "content": {
        "cell": "e37bcd78-51ee-40ac-8d93-08a1cd314042",
        "part": "source"
       },
       "id": "130dd85d-d697-4712-a4ad-4bcb73f8c7b3"
      }
     }
    },
    "9fa66828-4543-49c8-b52b-3e0eb72ec7d6": {
     "id": "9fa66828-4543-49c8-b52b-3e0eb72ec7d6",
     "prev": null,
     "regions": {
      "46b00d61-d0ab-4c22-b9e1-387ad6e33f1d": {
       "attrs": {
        "height": 1,
        "width": 1,
        "x": 0,
        "y": 0
       },
       "content": {
        "cell": "5a89285e-9f84-41f9-8186-ec8e4a823342",
        "part": "source"
       },
       "id": "46b00d61-d0ab-4c22-b9e1-387ad6e33f1d"
      }
     }
    }
   },
   "themes": {}
  }
 },
 "nbformat": 4,
 "nbformat_minor": 1
}
