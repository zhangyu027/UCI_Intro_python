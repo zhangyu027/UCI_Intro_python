{
 "cells": [
  {
   "cell_type": "markdown",
   "metadata": {
    "nbpresent": {
     "id": "52335e99-9810-4211-bb3b-c31769964cb3"
    }
   },
   "source": [
    "# Introduction To Programming With Python\n",
    "## Lecture 6 - Dictionaries"
   ]
  },
  {
   "cell_type": "markdown",
   "metadata": {},
   "source": [
    "# Dictionary\n",
    "Dictionaries allow us to store data in key value pairs.  This means that we can label the data elements in the dictionary. For example, we could create a dictionary that contains user informations, like name, age, and state."
   ]
  },
  {
   "cell_type": "code",
   "execution_count": 1,
   "metadata": {},
   "outputs": [
    {
     "name": "stdout",
     "output_type": "stream",
     "text": [
      "Jill Smith\n",
      "{'name': 'Jill Smith', 'age': 35, 'state': 'OR'}\n",
      "{'name': 'Jill Smith', 'state': 'OR'}\n",
      "{'name': 'Jill Smith', 'state': 'OR', 'height': 5.1}\n",
      "{'name': 'jill', 'state': 'OR', 'height': 5.1}\n",
      "{(11.0, 45.0): 75.4}\n"
     ]
    }
   ],
   "source": [
    "# We can define a dictionary like seen below.  Note the use of curly brackets,\n",
    "# {}, and the ':' used to separate the key and value.\n",
    "\n",
    "# This dictionary has 3 pieces of data, the keys are 'name', 'age' and 'state.\n",
    "# The values are show below.\n",
    "newDict = {'name': 'Jill Smith', 'age': 35, 'state': 'OR'}\n",
    "\n",
    "# We can access the data using the keys\n",
    "userName = newDict['name']\n",
    "print(userName)\n",
    "\n",
    "print(newDict)\n",
    "\n",
    "# We can remove items from the dictionary using 'del', just like we did with lists\n",
    "del newDict['age']\n",
    "print(newDict)\n",
    "\n",
    "# We can add items to a dictionary in the following way:\n",
    "newDict['height'] = 5.1\n",
    "print(newDict)\n",
    "\n",
    "nameList =['will', 'jill']\n",
    "newDict['name'] = nameList[1]\n",
    "print(newDict)\n",
    "\n",
    "tempDict = {}\n",
    "tempDict[(11.0, 45.0)] = 75.4\n",
    "print(tempDict)"
   ]
  },
  {
   "cell_type": "code",
   "execution_count": 2,
   "metadata": {},
   "outputs": [
    {
     "name": "stdout",
     "output_type": "stream",
     "text": [
      "{(1, 2): 'apple'}\n"
     ]
    }
   ],
   "source": [
    "# Also, note that keys can be strings, tuples, or numbers\n",
    "myDict = {}\n",
    "myDict[(1, 2)] = 'apple'\n",
    "print(myDict)"
   ]
  },
  {
   "cell_type": "code",
   "execution_count": 3,
   "metadata": {},
   "outputs": [
    {
     "name": "stdout",
     "output_type": "stream",
     "text": [
      "{'person1': {'name': 'will'}, 'person2': {'name': 'jill'}}\n"
     ]
    }
   ],
   "source": [
    "# In the space below, please create a dictionary, access some of the values \n",
    "# using the keys. Add new values using the method shown above, and delete some\n",
    "# values as well.\n",
    "nestedDict = {}\n",
    "nestedDict['person1'] = {}\n",
    "nestedDict['person1']['name'] = 'will'\n",
    "nestedDict['person2'] = {'name': 'jill'}\n",
    "\n",
    "print(nestedDict)"
   ]
  }
 ],
 "metadata": {
  "anaconda-cloud": {},
  "hide_input": false,
  "kernelspec": {
   "display_name": "Python 3",
   "language": "python",
   "name": "python3"
  },
  "language_info": {
   "codemirror_mode": {
    "name": "ipython",
    "version": 3
   },
   "file_extension": ".py",
   "mimetype": "text/x-python",
   "name": "python",
   "nbconvert_exporter": "python",
   "pygments_lexer": "ipython3",
   "version": "3.8.8"
  },
  "nbpresent": {
   "slides": {
    "1eb9c367-bcaf-4e95-8e87-66ca8b929e02": {
     "id": "1eb9c367-bcaf-4e95-8e87-66ca8b929e02",
     "prev": "9fa66828-4543-49c8-b52b-3e0eb72ec7d6",
     "regions": {
      "c8939296-ff76-4813-98ad-ed53e80bdd2f": {
       "attrs": {
        "height": 1,
        "width": 1,
        "x": 0,
        "y": 0
       },
       "id": "c8939296-ff76-4813-98ad-ed53e80bdd2f"
      }
     }
    },
    "3ef0b1c1-2e3b-4f42-b412-60d20b1a6a14": {
     "id": "3ef0b1c1-2e3b-4f42-b412-60d20b1a6a14",
     "prev": "1eb9c367-bcaf-4e95-8e87-66ca8b929e02",
     "regions": {
      "130dd85d-d697-4712-a4ad-4bcb73f8c7b3": {
       "attrs": {
        "height": 1,
        "width": 1,
        "x": 0,
        "y": 0
       },
       "content": {
        "cell": "e37bcd78-51ee-40ac-8d93-08a1cd314042",
        "part": "source"
       },
       "id": "130dd85d-d697-4712-a4ad-4bcb73f8c7b3"
      }
     }
    },
    "9fa66828-4543-49c8-b52b-3e0eb72ec7d6": {
     "id": "9fa66828-4543-49c8-b52b-3e0eb72ec7d6",
     "prev": null,
     "regions": {
      "46b00d61-d0ab-4c22-b9e1-387ad6e33f1d": {
       "attrs": {
        "height": 1,
        "width": 1,
        "x": 0,
        "y": 0
       },
       "content": {
        "cell": "5a89285e-9f84-41f9-8186-ec8e4a823342",
        "part": "source"
       },
       "id": "46b00d61-d0ab-4c22-b9e1-387ad6e33f1d"
      }
     }
    }
   },
   "themes": {}
  }
 },
 "nbformat": 4,
 "nbformat_minor": 1
}
