{
 "cells": [
  {
   "cell_type": "markdown",
   "metadata": {
    "nbpresent": {
     "id": "52335e99-9810-4211-bb3b-c31769964cb3"
    }
   },
   "source": [
    "# Introduction To Programming With Python\n",
    "## Lecture 4 - Lists"
   ]
  },
  {
   "cell_type": "markdown",
   "metadata": {},
   "source": [
    "# Lists\n",
    "List can be useful whenever you want to collect other variable in a list. For example,\n",
    "let's say we are reading in a data file of user email addresses and demographic data\n",
    "and we want to collect the email address of users that meet a certain criteria - you\n",
    "could collect the emails in a list.\n",
    "\n",
    "Below you will see some examples of using lists:"
   ]
  },
  {
   "cell_type": "code",
   "execution_count": 1,
   "metadata": {},
   "outputs": [
    {
     "name": "stdout",
     "output_type": "stream",
     "text": [
      "list1: 3\n",
      "list2: Austin\n",
      "updated list1: ['hello', 2, 3]\n"
     ]
    }
   ],
   "source": [
    "# This is a list of numbers:\n",
    "list1 = [3, 2, 3]\n",
    "\n",
    "# This is a list of numbers and strings\n",
    "list2 = [4.3, 1.2, 'Austin']\n",
    "\n",
    "# We can access items in the lists through an index - note that python uses\n",
    "# 0 indexing - which means the first element is at index 0. Note we use square\n",
    "# brackets when indexing a list.\n",
    "\n",
    "print('list1:', list1[0])\n",
    "\n",
    "print('list2:', list2[2])\n",
    "\n",
    "# We can also update items in the list by using indexing\n",
    "list1[0] = 'hello'\n",
    "print('updated list1:', list1)\n",
    "\n",
    "# Please make some lists below, and the print items from them\n"
   ]
  },
  {
   "cell_type": "code",
   "execution_count": 2,
   "metadata": {},
   "outputs": [
    {
     "name": "stdout",
     "output_type": "stream",
     "text": [
      "will\n",
      "jane\n",
      "will\n"
     ]
    }
   ],
   "source": [
    "string1 = 'will'\n",
    "string2 = string1\n",
    "print(string2)\n",
    "string2 = 'jane'\n",
    "print(string2)\n",
    "print(string1)"
   ]
  },
  {
   "cell_type": "code",
   "execution_count": 3,
   "metadata": {},
   "outputs": [
    {
     "name": "stdout",
     "output_type": "stream",
     "text": [
      "list1: [-7, 2, 3]\n",
      "list1: [3, 2, 3]\n",
      "<class 'list'>\n",
      "[1, 2]\n"
     ]
    }
   ],
   "source": [
    "# Be careful about pointing multiple variable names at the same list. Notice\n",
    "# how below we change list2 and also changes list1. This is because both\n",
    "# variable names are pointing to the same list object in memory.\n",
    "\n",
    "list1 = [3, 2, 3]\n",
    "list2 = list1\n",
    "list2[0] = -7\n",
    "print('list1:', list1)\n",
    "\n",
    "# you can always copy  a list using the copy() method\n",
    "\n",
    "list1 = [3, 2, 3]\n",
    "list2 = list1.copy()\n",
    "list2[0] = -7\n",
    "print('list1:', list1)\n",
    "\n",
    "dog = [1, 2]\n",
    "print(type(dog))\n",
    "print(dog)"
   ]
  },
  {
   "cell_type": "markdown",
   "metadata": {},
   "source": [
    "## Growing and Concatenating Lists\n",
    "We can add items to list, and combine lists. Let's look at some examples below:"
   ]
  },
  {
   "cell_type": "code",
   "execution_count": 4,
   "metadata": {},
   "outputs": [
    {
     "name": "stdout",
     "output_type": "stream",
     "text": [
      "list1: ['a', 'b', 'c', 'apple']\n"
     ]
    }
   ],
   "source": [
    "# Adding items to lists is a simple as using the append method:\n",
    "myString = 'apple'\n",
    "list1 = ['a', 'b', 'c']\n",
    "list1.append(myString)\n",
    "print('list1:', list1)\n",
    "\n",
    "# Please create a list below and append items to it.\n"
   ]
  },
  {
   "cell_type": "code",
   "execution_count": 5,
   "metadata": {},
   "outputs": [
    {
     "name": "stdout",
     "output_type": "stream",
     "text": [
      "list3: [1, 2, 3, 4, 5, 6]\n"
     ]
    }
   ],
   "source": [
    "# We combine two lists with the '+' operator\n",
    "list1 = [1, 2, 3]\n",
    "list2 = [4, 5, 6]\n",
    "list1 = list1 + list2\n",
    "print('list3:', list1)\n",
    "\n"
   ]
  },
  {
   "cell_type": "markdown",
   "metadata": {},
   "source": [
    "## Deleting Items From List "
   ]
  },
  {
   "cell_type": "code",
   "execution_count": 6,
   "metadata": {},
   "outputs": [
    {
     "name": "stdout",
     "output_type": "stream",
     "text": [
      "['apple', 'd']\n"
     ]
    }
   ],
   "source": [
    "myString = 'apple'\n",
    "list1 = ['a', myString, 'd']\n",
    "del list1[0]\n",
    "print(list1)"
   ]
  },
  {
   "cell_type": "code",
   "execution_count": null,
   "metadata": {
    "collapsed": true
   },
   "outputs": [],
   "source": [
    "# please create some lists below and concatenate them together, then append items, and delete items."
   ]
  }
 ],
 "metadata": {
  "anaconda-cloud": {},
  "hide_input": false,
  "kernelspec": {
   "display_name": "Python 3",
   "language": "python",
   "name": "python3"
  },
  "language_info": {
   "codemirror_mode": {
    "name": "ipython",
    "version": 3
   },
   "file_extension": ".py",
   "mimetype": "text/x-python",
   "name": "python",
   "nbconvert_exporter": "python",
   "pygments_lexer": "ipython3",
   "version": "3.8.8"
  },
  "nbpresent": {
   "slides": {
    "1eb9c367-bcaf-4e95-8e87-66ca8b929e02": {
     "id": "1eb9c367-bcaf-4e95-8e87-66ca8b929e02",
     "prev": "9fa66828-4543-49c8-b52b-3e0eb72ec7d6",
     "regions": {
      "c8939296-ff76-4813-98ad-ed53e80bdd2f": {
       "attrs": {
        "height": 1,
        "width": 1,
        "x": 0,
        "y": 0
       },
       "id": "c8939296-ff76-4813-98ad-ed53e80bdd2f"
      }
     }
    },
    "3ef0b1c1-2e3b-4f42-b412-60d20b1a6a14": {
     "id": "3ef0b1c1-2e3b-4f42-b412-60d20b1a6a14",
     "prev": "1eb9c367-bcaf-4e95-8e87-66ca8b929e02",
     "regions": {
      "130dd85d-d697-4712-a4ad-4bcb73f8c7b3": {
       "attrs": {
        "height": 1,
        "width": 1,
        "x": 0,
        "y": 0
       },
       "content": {
        "cell": "e37bcd78-51ee-40ac-8d93-08a1cd314042",
        "part": "source"
       },
       "id": "130dd85d-d697-4712-a4ad-4bcb73f8c7b3"
      }
     }
    },
    "9fa66828-4543-49c8-b52b-3e0eb72ec7d6": {
     "id": "9fa66828-4543-49c8-b52b-3e0eb72ec7d6",
     "prev": null,
     "regions": {
      "46b00d61-d0ab-4c22-b9e1-387ad6e33f1d": {
       "attrs": {
        "height": 1,
        "width": 1,
        "x": 0,
        "y": 0
       },
       "content": {
        "cell": "5a89285e-9f84-41f9-8186-ec8e4a823342",
        "part": "source"
       },
       "id": "46b00d61-d0ab-4c22-b9e1-387ad6e33f1d"
      }
     }
    }
   },
   "themes": {}
  }
 },
 "nbformat": 4,
 "nbformat_minor": 1
}
