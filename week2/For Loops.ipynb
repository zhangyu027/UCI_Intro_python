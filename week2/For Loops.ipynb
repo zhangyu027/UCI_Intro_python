{
 "cells": [
  {
   "cell_type": "markdown",
   "metadata": {},
   "source": [
    "# For Loops\n",
    "For loops are used to repeat a block of code a certain number of times. Let's see some examples below."
   ]
  },
  {
   "cell_type": "code",
   "execution_count": 1,
   "metadata": {},
   "outputs": [
    {
     "name": "stdout",
     "output_type": "stream",
     "text": [
      "0\n",
      "1\n",
      "2\n",
      "3\n",
      "4\n"
     ]
    }
   ],
   "source": [
    "# for loops will iterate through values in a list. (In fact, you can use any\n",
    "# iterator object, but a list is the most common) \n",
    "myList = [0, 1, 2, 3, 4]\n",
    "for number in myList:\n",
    "    print(number)"
   ]
  },
  {
   "cell_type": "code",
   "execution_count": 2,
   "metadata": {},
   "outputs": [
    {
     "data": {
      "text/plain": [
       "range(0, 5)"
      ]
     },
     "execution_count": 2,
     "metadata": {},
     "output_type": "execute_result"
    }
   ],
   "source": [
    "# Speaking of iterator objects, we can create one using range.  Range(n) will\n",
    "# generate numbers from 0 to n-1.  For example, range(5) returns a range object \n",
    "# which we can use to iterate from 0 to 4. \n",
    "# The idea of an iterator may be confusing, but just think if it as a list,\n",
    "# except only one value in the list is in memeory at a time.  So instead of\n",
    "# creating the list [0, 1, 2, 3, 4], you have created a range object that \n",
    "# \"counts\" from 0 to 4, one number at a time.\n",
    "range(5) # will generate numbers from 0 to 4"
   ]
  },
  {
   "cell_type": "code",
   "execution_count": 3,
   "metadata": {},
   "outputs": [
    {
     "data": {
      "text/plain": [
       "[0, 1, 2, 3, 4]"
      ]
     },
     "execution_count": 3,
     "metadata": {},
     "output_type": "execute_result"
    }
   ],
   "source": [
    "# You can actually convert a range object to a list using the list() function.\n",
    "list(range(5))"
   ]
  },
  {
   "cell_type": "code",
   "execution_count": 4,
   "metadata": {},
   "outputs": [
    {
     "name": "stdout",
     "output_type": "stream",
     "text": [
      "0\n",
      "0\n",
      "1\n",
      "1\n",
      "2\n",
      "2\n",
      "3\n",
      "3\n"
     ]
    }
   ],
   "source": [
    "# Often, range() is used in for loops. This loop will iterate from 0 to 4.\n",
    "# That isthe variable number will take on the values 0, 1, 2, 3, 4.\n",
    "for number in range(8):\n",
    "    print(number // 2)"
   ]
  },
  {
   "cell_type": "code",
   "execution_count": 5,
   "metadata": {},
   "outputs": [
    {
     "name": "stdout",
     "output_type": "stream",
     "text": [
      "file1\n",
      "file2\n",
      "file3\n"
     ]
    }
   ],
   "source": [
    "# But what if you want to loop over something other than numbers? We can do\n",
    "# that just as easily.\n",
    "\n",
    "listOfFiles = ['file1', 'file2', 'file3']\n",
    "for x in listOfFiles:\n",
    "    print(x)"
   ]
  },
  {
   "cell_type": "code",
   "execution_count": 6,
   "metadata": {},
   "outputs": [
    {
     "name": "stdout",
     "output_type": "stream",
     "text": [
      "1\n",
      "Austin\n",
      "7.6\n",
      "(4, 5)\n",
      "['W', 'H', 'L']\n"
     ]
    }
   ],
   "source": [
    "# This loop loops over strings, names, and tuples in a list. This example\n",
    "# just shows how a for loop will iterate over a list that contains all kinds \n",
    "# of variables.\n",
    "myList = [1, 'Austin', 7.6, (4,5), ['W', 'H', 'L']]\n",
    "for val in myList:\n",
    "    print(val)"
   ]
  },
  {
   "cell_type": "code",
   "execution_count": 13,
   "metadata": {},
   "outputs": [
    {
     "name": "stdout",
     "output_type": "stream",
     "text": [
      "0  is divisible by 7\n",
      "7  is divisible by 7\n",
      "14  is divisible by 7\n",
      "21  is divisible by 7\n",
      "28  is divisible by 7\n",
      "35  is divisible by 7\n",
      "42  is divisible by 7\n",
      "49  is divisible by 7\n",
      "56  is divisible by 7\n",
      "63  is divisible by 7\n",
      "70  is divisible by 7\n",
      "77  is divisible by 7\n",
      "84  is divisible by 7\n",
      "91  is divisible by 7\n",
      "98  is divisible by 7\n",
      "105  is divisible by 7\n",
      "112  is divisible by 7\n",
      "119  is divisible by 7\n",
      "126  is divisible by 7\n",
      "133  is divisible by 7\n",
      "140  is divisible by 7\n",
      "147  is divisible by 7\n",
      "154  is divisible by 7\n",
      "161  is divisible by 7\n",
      "168  is divisible by 7\n",
      "175  is divisible by 7\n",
      "182  is divisible by 7\n",
      "189  is divisible by 7\n",
      "196  is divisible by 7\n",
      "203  is divisible by 7\n",
      "210  is divisible by 7\n",
      "217  is divisible by 7\n",
      "224  is divisible by 7\n",
      "231  is divisible by 7\n",
      "238  is divisible by 7\n",
      "245  is divisible by 7\n",
      "252  is divisible by 7\n",
      "259  is divisible by 7\n",
      "266  is divisible by 7\n",
      "273  is divisible by 7\n",
      "280  is divisible by 7\n",
      "287  is divisible by 7\n",
      "294  is divisible by 7\n",
      "301  is divisible by 7\n",
      "308  is divisible by 7\n",
      "315  is divisible by 7\n",
      "322  is divisible by 7\n",
      "329  is divisible by 7\n",
      "336  is divisible by 7\n",
      "343  is divisible by 7\n",
      "350  is divisible by 7\n",
      "357  is divisible by 7\n",
      "364  is divisible by 7\n",
      "371  is divisible by 7\n",
      "378  is divisible by 7\n",
      "385  is divisible by 7\n",
      "392  is divisible by 7\n",
      "399  is divisible by 7\n",
      "406  is divisible by 7\n",
      "413  is divisible by 7\n",
      "420  is divisible by 7\n",
      "427  is divisible by 7\n",
      "434  is divisible by 7\n",
      "441  is divisible by 7\n",
      "448  is divisible by 7\n",
      "455  is divisible by 7\n",
      "462  is divisible by 7\n",
      "469  is divisible by 7\n",
      "476  is divisible by 7\n",
      "483  is divisible by 7\n",
      "490  is divisible by 7\n",
      "497  is divisible by 7\n",
      "504  is divisible by 7\n",
      "511  is divisible by 7\n",
      "518  is divisible by 7\n",
      "525  is divisible by 7\n",
      "532  is divisible by 7\n",
      "539  is divisible by 7\n",
      "546  is divisible by 7\n",
      "553  is divisible by 7\n",
      "560  is divisible by 7\n",
      "567  is divisible by 7\n",
      "574  is divisible by 7\n",
      "581  is divisible by 7\n",
      "588  is divisible by 7\n",
      "595  is divisible by 7\n",
      "602  is divisible by 7\n",
      "609  is divisible by 7\n",
      "616  is divisible by 7\n",
      "623  is divisible by 7\n",
      "630  is divisible by 7\n",
      "637  is divisible by 7\n",
      "644  is divisible by 7\n",
      "651  is divisible by 7\n",
      "658  is divisible by 7\n",
      "665  is divisible by 7\n",
      "672  is divisible by 7\n",
      "679  is divisible by 7\n",
      "686  is divisible by 7\n",
      "693  is divisible by 7\n",
      "700  is divisible by 7\n",
      "707  is divisible by 7\n",
      "714  is divisible by 7\n",
      "721  is divisible by 7\n",
      "728  is divisible by 7\n",
      "735  is divisible by 7\n",
      "742  is divisible by 7\n",
      "749  is divisible by 7\n",
      "756  is divisible by 7\n",
      "763  is divisible by 7\n",
      "770  is divisible by 7\n",
      "777  is divisible by 7\n",
      "784  is divisible by 7\n",
      "791  is divisible by 7\n",
      "798  is divisible by 7\n",
      "805  is divisible by 7\n",
      "812  is divisible by 7\n",
      "819  is divisible by 7\n",
      "826  is divisible by 7\n",
      "833  is divisible by 7\n",
      "840  is divisible by 7\n",
      "847  is divisible by 7\n",
      "854  is divisible by 7\n",
      "861  is divisible by 7\n",
      "868  is divisible by 7\n",
      "875  is divisible by 7\n",
      "882  is divisible by 7\n",
      "889  is divisible by 7\n",
      "896  is divisible by 7\n",
      "903  is divisible by 7\n",
      "910  is divisible by 7\n",
      "917  is divisible by 7\n",
      "924  is divisible by 7\n",
      "931  is divisible by 7\n",
      "938  is divisible by 7\n",
      "945  is divisible by 7\n",
      "952  is divisible by 7\n",
      "959  is divisible by 7\n",
      "966  is divisible by 7\n",
      "973  is divisible by 7\n",
      "980  is divisible by 7\n",
      "987  is divisible by 7\n",
      "994  is divisible by 7\n"
     ]
    }
   ],
   "source": [
    "# We can put if/else statements inside a for loop (we can put any code we \n",
    "# want inside a for loop)\n",
    "for n in range(1000):\n",
    "    if n % 7 == 0:\n",
    "        print(n, ' is divisible by 7')"
   ]
  },
  {
   "cell_type": "code",
   "execution_count": 14,
   "metadata": {},
   "outputs": [
    {
     "name": "stdout",
     "output_type": "stream",
     "text": [
      "0\n",
      "4\n"
     ]
    }
   ],
   "source": [
    "# Can also 'skip' a loop in the for loop, but still continue the loop, using\n",
    "# the 'continue' keyword.\n",
    "for val in range(3):\n",
    "    if val == 1:\n",
    "        continue\n",
    "    newVal = val**2\n",
    "    print(newVal)"
   ]
  },
  {
   "cell_type": "code",
   "execution_count": 16,
   "metadata": {},
   "outputs": [
    {
     "name": "stdout",
     "output_type": "stream",
     "text": [
      "apple\n",
      "oregon\n"
     ]
    }
   ],
   "source": [
    "# You can also exit a loop using the break keyword:\n",
    "for word in ['apple', 'oregon', 'washington']:\n",
    "    print(word)\n",
    "    if word == 'oregon':\n",
    "        break\n",
    "    "
   ]
  },
  {
   "cell_type": "code",
   "execution_count": null,
   "metadata": {
    "collapsed": true
   },
   "outputs": [],
   "source": [
    "# In this cell, please create a couple for loops and include an if/else block\n",
    "# inside the loop.\n",
    "\n"
   ]
  }
 ],
 "metadata": {
  "anaconda-cloud": {},
  "hide_input": false,
  "kernelspec": {
   "display_name": "Python 3",
   "language": "python",
   "name": "python3"
  },
  "language_info": {
   "codemirror_mode": {
    "name": "ipython",
    "version": 3
   },
   "file_extension": ".py",
   "mimetype": "text/x-python",
   "name": "python",
   "nbconvert_exporter": "python",
   "pygments_lexer": "ipython3",
   "version": "3.8.8"
  },
  "nbpresent": {
   "slides": {
    "1eb9c367-bcaf-4e95-8e87-66ca8b929e02": {
     "id": "1eb9c367-bcaf-4e95-8e87-66ca8b929e02",
     "prev": "9fa66828-4543-49c8-b52b-3e0eb72ec7d6",
     "regions": {
      "c8939296-ff76-4813-98ad-ed53e80bdd2f": {
       "attrs": {
        "height": 1,
        "width": 1,
        "x": 0,
        "y": 0
       },
       "id": "c8939296-ff76-4813-98ad-ed53e80bdd2f"
      }
     }
    },
    "3ef0b1c1-2e3b-4f42-b412-60d20b1a6a14": {
     "id": "3ef0b1c1-2e3b-4f42-b412-60d20b1a6a14",
     "prev": "1eb9c367-bcaf-4e95-8e87-66ca8b929e02",
     "regions": {
      "130dd85d-d697-4712-a4ad-4bcb73f8c7b3": {
       "attrs": {
        "height": 1,
        "width": 1,
        "x": 0,
        "y": 0
       },
       "content": {
        "cell": "e37bcd78-51ee-40ac-8d93-08a1cd314042",
        "part": "source"
       },
       "id": "130dd85d-d697-4712-a4ad-4bcb73f8c7b3"
      }
     }
    },
    "9fa66828-4543-49c8-b52b-3e0eb72ec7d6": {
     "id": "9fa66828-4543-49c8-b52b-3e0eb72ec7d6",
     "prev": null,
     "regions": {
      "46b00d61-d0ab-4c22-b9e1-387ad6e33f1d": {
       "attrs": {
        "height": 1,
        "width": 1,
        "x": 0,
        "y": 0
       },
       "content": {
        "cell": "5a89285e-9f84-41f9-8186-ec8e4a823342",
        "part": "source"
       },
       "id": "46b00d61-d0ab-4c22-b9e1-387ad6e33f1d"
      }
     }
    }
   },
   "themes": {}
  }
 },
 "nbformat": 4,
 "nbformat_minor": 1
}
