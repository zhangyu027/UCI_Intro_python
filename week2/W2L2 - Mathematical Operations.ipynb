{
 "cells": [
  {
   "cell_type": "markdown",
   "metadata": {
    "nbpresent": {
     "id": "52335e99-9810-4211-bb3b-c31769964cb3"
    }
   },
   "source": [
    "# Introduction To Programming With Python\n",
    "## Week 2 - Mathematical Operations"
   ]
  },
  {
   "cell_type": "markdown",
   "metadata": {},
   "source": [
    "# Mathematical Operators\n",
    "We just saw a list of operators in the slides. Now, look at the examples below,\n",
    "and please take time to edit them and write your own equations.\n"
   ]
  },
  {
   "cell_type": "code",
   "execution_count": 1,
   "metadata": {},
   "outputs": [
    {
     "name": "stdout",
     "output_type": "stream",
     "text": [
      "\n",
      "Addition and Subtraction with Integers:\n",
      "8\n",
      "<class 'int'>\n",
      "12\n",
      "<class 'int'>\n",
      "\n",
      "Addition and Subtraction with Floating Numbers:\n",
      "13.0\n",
      "<class 'float'>\n",
      "\n",
      "Addition and Subtraction with Floating Numbers and Integers:\n",
      "13.0\n",
      "<class 'float'>\n",
      "\n",
      "Multiplication and Division with Intengers:\n",
      "15\n",
      "<class 'int'>\n",
      "2.0\n",
      "<class 'float'>\n",
      "\n",
      "Multiplication and Division with Floats:\n",
      "28.825\n",
      "<class 'float'>\n",
      "2.3551577955723033\n",
      "<class 'float'>\n",
      "\n",
      "Multiplication and Division with a mixture of Integers and Floats will result in a float\n",
      "98.91662741403674\n",
      "<class 'float'>\n",
      "\n",
      "The modulo operator %\n",
      "3\n",
      "<class 'int'>\n",
      "\n",
      "Integer division // (or division without the remainder)\n",
      "1.0\n",
      "<class 'float'>\n",
      "\n",
      "Raising a number to a power\n",
      "9\n",
      "<class 'int'>\n",
      "\n",
      "Finding the square root of a number\n",
      "3.0\n",
      "<class 'float'>\n"
     ]
    }
   ],
   "source": [
    "# Let's do some math with integers and floats\n",
    "\n",
    "# addition and subtraction use + and -:\n",
    "# with integers, we get integer answers:\n",
    "print('\\nAddition and Subtraction with Integers:')\n",
    "\n",
    "answer = 10 - 2\n",
    "print(answer)\n",
    "print(type(answer))\n",
    "\n",
    "answer = 10 + 2\n",
    "print(answer)\n",
    "print(type(answer))\n",
    "\n",
    "print('\\nAddition and Subtraction with Floating Numbers:')\n",
    "# with floating numbers, we get floating number answers:\n",
    "answer = 10.0 - 2.0 + 5.0\n",
    "print(answer)\n",
    "print(type(answer))\n",
    "\n",
    "print('\\nAddition and Subtraction with Floating Numbers and Integers:')\n",
    "# When you mix floating numbers and integers, the answer will be a floating\n",
    "# number.\n",
    "answer = 10 - 2 + 5.0\n",
    "print(answer)\n",
    "print(type(answer))\n",
    "\n",
    "print('\\nMultiplication and Division with Intengers:')\n",
    "# when multiplying with integers, your result will be an integer.\n",
    "# when dividing with integers, your result will be a floating point number, \n",
    "# even if the answer is a whole number.\n",
    "# multiplication uses the '*' character:\n",
    "answer = 3 * 5\n",
    "print(answer)\n",
    "print(type(answer))\n",
    "\n",
    "# division uses the '/' character:\n",
    "answer = 6 / 3\n",
    "print(answer)\n",
    "print(type(answer))\n",
    "\n",
    "print('\\nMultiplication and Division with Floats:')\n",
    "answer = 5.0 * 5.765\n",
    "print(answer)\n",
    "print(type(answer))\n",
    "\n",
    "answer = 5.0 / 2.123\n",
    "print(answer)\n",
    "print(type(answer))\n",
    "\n",
    "print('\\nMultiplication and Division with a mixture of Integers and Floats '\n",
    "      'will result in a float')\n",
    "\n",
    "answer = 7 * 5.0 / 2.123 * 6\n",
    "print(answer)\n",
    "print(type(answer))\n",
    "\n",
    "print('\\nThe modulo operator %')\n",
    "\n",
    "answer = 10 % 7\n",
    "print(answer)\n",
    "print(type(answer))\n",
    "\n",
    "print('\\nInteger division // (or division without the remainder)')\n",
    "\n",
    "answer = 10.0 // 7.0\n",
    "print(answer)\n",
    "print(type(answer))\n",
    "\n",
    "print('\\nRaising a number to a power')\n",
    "\n",
    "answer = 3**2\n",
    "print(answer)\n",
    "print(type(answer))\n",
    "\n",
    "print('\\nFinding the square root of a number')\n",
    "\n",
    "answer = 9**(1/2)\n",
    "print(answer)\n",
    "print(type(answer))"
   ]
  },
  {
   "cell_type": "code",
   "execution_count": 2,
   "metadata": {},
   "outputs": [
    {
     "data": {
      "text/plain": [
       "0"
      ]
     },
     "execution_count": 2,
     "metadata": {},
     "output_type": "execute_result"
    }
   ],
   "source": [
    "# Use this cell to write your own mathematical equations.\n",
    "myNum = 4\n",
    "myNum % 2\n"
   ]
  },
  {
   "cell_type": "code",
   "execution_count": null,
   "metadata": {
    "collapsed": true,
    "jupyter": {
     "outputs_hidden": true
    }
   },
   "outputs": [],
   "source": []
  }
 ],
 "metadata": {
  "anaconda-cloud": {},
  "hide_input": false,
  "kernelspec": {
   "display_name": "Python 3",
   "language": "python",
   "name": "python3"
  },
  "language_info": {
   "codemirror_mode": {
    "name": "ipython",
    "version": 3
   },
   "file_extension": ".py",
   "mimetype": "text/x-python",
   "name": "python",
   "nbconvert_exporter": "python",
   "pygments_lexer": "ipython3",
   "version": "3.8.8"
  },
  "nbpresent": {
   "slides": {
    "1eb9c367-bcaf-4e95-8e87-66ca8b929e02": {
     "id": "1eb9c367-bcaf-4e95-8e87-66ca8b929e02",
     "prev": "9fa66828-4543-49c8-b52b-3e0eb72ec7d6",
     "regions": {
      "c8939296-ff76-4813-98ad-ed53e80bdd2f": {
       "attrs": {
        "height": 1,
        "width": 1,
        "x": 0,
        "y": 0
       },
       "id": "c8939296-ff76-4813-98ad-ed53e80bdd2f"
      }
     }
    },
    "3ef0b1c1-2e3b-4f42-b412-60d20b1a6a14": {
     "id": "3ef0b1c1-2e3b-4f42-b412-60d20b1a6a14",
     "prev": "1eb9c367-bcaf-4e95-8e87-66ca8b929e02",
     "regions": {
      "130dd85d-d697-4712-a4ad-4bcb73f8c7b3": {
       "attrs": {
        "height": 1,
        "width": 1,
        "x": 0,
        "y": 0
       },
       "content": {
        "cell": "e37bcd78-51ee-40ac-8d93-08a1cd314042",
        "part": "source"
       },
       "id": "130dd85d-d697-4712-a4ad-4bcb73f8c7b3"
      }
     }
    },
    "9fa66828-4543-49c8-b52b-3e0eb72ec7d6": {
     "id": "9fa66828-4543-49c8-b52b-3e0eb72ec7d6",
     "prev": null,
     "regions": {
      "46b00d61-d0ab-4c22-b9e1-387ad6e33f1d": {
       "attrs": {
        "height": 1,
        "width": 1,
        "x": 0,
        "y": 0
       },
       "content": {
        "cell": "5a89285e-9f84-41f9-8186-ec8e4a823342",
        "part": "source"
       },
       "id": "46b00d61-d0ab-4c22-b9e1-387ad6e33f1d"
      }
     }
    }
   },
   "themes": {}
  }
 },
 "nbformat": 4,
 "nbformat_minor": 4
}
