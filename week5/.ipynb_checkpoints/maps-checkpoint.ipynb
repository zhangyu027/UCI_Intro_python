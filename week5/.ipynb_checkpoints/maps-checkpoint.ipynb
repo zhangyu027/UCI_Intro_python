{
 "cells": [
  {
   "cell_type": "code",
   "execution_count": 1,
   "id": "aa6e78a1",
   "metadata": {},
   "outputs": [
    {
     "ename": "ModuleNotFoundError",
     "evalue": "No module named 'mpl_toolkits.basemap'",
     "output_type": "error",
     "traceback": [
      "\u001b[0;31m---------------------------------------------------------------------------\u001b[0m",
      "\u001b[0;31mModuleNotFoundError\u001b[0m                       Traceback (most recent call last)",
      "\u001b[0;32m<ipython-input-1-4d3599ae5bd9>\u001b[0m in \u001b[0;36m<module>\u001b[0;34m\u001b[0m\n\u001b[1;32m      1\u001b[0m \u001b[0;32mimport\u001b[0m \u001b[0mnumpy\u001b[0m \u001b[0;32mas\u001b[0m \u001b[0mnp\u001b[0m\u001b[0;34m\u001b[0m\u001b[0;34m\u001b[0m\u001b[0m\n\u001b[1;32m      2\u001b[0m \u001b[0;32mimport\u001b[0m \u001b[0mmatplotlib\u001b[0m\u001b[0;34m.\u001b[0m\u001b[0mpyplot\u001b[0m \u001b[0;32mas\u001b[0m \u001b[0mplt\u001b[0m\u001b[0;34m\u001b[0m\u001b[0;34m\u001b[0m\u001b[0m\n\u001b[0;32m----> 3\u001b[0;31m \u001b[0;32mfrom\u001b[0m \u001b[0mmpl_toolkits\u001b[0m\u001b[0;34m.\u001b[0m\u001b[0mbasemap\u001b[0m \u001b[0;32mimport\u001b[0m \u001b[0mBasemap\u001b[0m\u001b[0;34m\u001b[0m\u001b[0;34m\u001b[0m\u001b[0m\n\u001b[0m",
      "\u001b[0;31mModuleNotFoundError\u001b[0m: No module named 'mpl_toolkits.basemap'"
     ]
    }
   ],
   "source": [
    "import numpy as np\n",
    "import matplotlib.pyplot as plt\n",
    "from mpl_toolkits.basemap import Basemap"
   ]
  },
  {
   "cell_type": "code",
   "execution_count": 4,
   "id": "cbdf589d",
   "metadata": {},
   "outputs": [
    {
     "ename": "ModuleNotFoundError",
     "evalue": "No module named 'mpl_toolkits.basemap'",
     "output_type": "error",
     "traceback": [
      "\u001b[0;31m---------------------------------------------------------------------------\u001b[0m",
      "\u001b[0;31mModuleNotFoundError\u001b[0m                       Traceback (most recent call last)",
      "\u001b[0;32m<ipython-input-4-d9467465a3b6>\u001b[0m in \u001b[0;36m<module>\u001b[0;34m\u001b[0m\n\u001b[0;32m----> 1\u001b[0;31m \u001b[0;32mfrom\u001b[0m \u001b[0mmpl_toolkits\u001b[0m\u001b[0;34m.\u001b[0m\u001b[0mbasemap\u001b[0m \u001b[0;32mimport\u001b[0m \u001b[0mBasemap\u001b[0m\u001b[0;34m\u001b[0m\u001b[0;34m\u001b[0m\u001b[0m\n\u001b[0m",
      "\u001b[0;31mModuleNotFoundError\u001b[0m: No module named 'mpl_toolkits.basemap'"
     ]
    }
   ],
   "source": [
    "from mpl_toolkits.basemap import Basemap"
   ]
  },
  {
   "cell_type": "code",
   "execution_count": 2,
   "id": "ed56819f",
   "metadata": {},
   "outputs": [],
   "source": [
    "import matplotlib\n",
    "matplotlib.use('TkAgg')"
   ]
  },
  {
   "cell_type": "code",
   "execution_count": null,
   "id": "674bebdd",
   "metadata": {},
   "outputs": [],
   "source": [
    "from numpy import arange, sin, pi\n",
    "from matplotlib.backends.backend_tkagg import FigureCanvasTkAgg, NavigationToolbar2TkAgg\n",
    "# implement the default mpl key bindings\n",
    "from matplotlib.backend_bases import key_press_handler"
   ]
  },
  {
   "cell_type": "code",
   "execution_count": null,
   "id": "d15d004d",
   "metadata": {},
   "outputs": [],
   "source": [
    "from Tkinter import *\n",
    "from PIL import Image\n",
    "import numpy as np\n",
    "import matplotlib.pyplot as plt"
   ]
  },
  {
   "cell_type": "code",
   "execution_count": null,
   "id": "32b6c498",
   "metadata": {},
   "outputs": [],
   "source": [
    "from PIL import Image\n",
    "from mpl_toolkits.basemap import Basemap"
   ]
  },
  {
   "cell_type": "code",
   "execution_count": null,
   "id": "aa31fc67",
   "metadata": {},
   "outputs": [],
   "source": [
    "from matplotlib.figure import Figure"
   ]
  },
  {
   "cell_type": "code",
   "execution_count": null,
   "id": "b14c5d8e",
   "metadata": {},
   "outputs": [],
   "source": [
    "from mpl_toolkits.basemap import Basemap\n",
    "from matplotlib.backends.backend_tkagg import FigureCanvasTkAgg, NavigationToolbar2TkAgg\n",
    "from matplotlib.figure import Figure\n",
    "\n",
    "import sys\n",
    "if sys.version_info[0] < 3:\n",
    "    import Tkinter as Tk\n",
    "else:\n",
    "    import tkinter as Tk\n",
    "\n",
    "root = Tk.Tk()\n",
    "root.wm_title(\"Embedding in TK\")\n",
    "\n",
    "fig = Figure(figsize=(5, 4), dpi=100)\n",
    "ax = fig.add_subplot(111)\n",
    "\n",
    "m = Basemap(projection='cyl',llcrnrlat=-90,urcrnrlat=90,\\\n",
    "            llcrnrlon=-180,urcrnrlon=180,resolution='c', ax=ax)\n",
    "m.drawcoastlines()\n",
    "\n",
    "# a tk.DrawingArea\n",
    "canvas = FigureCanvasTkAgg(fig, master=root)\n",
    "canvas.show()\n",
    "canvas.get_tk_widget().pack(side=Tk.TOP, fill=Tk.BOTH, expand=1)\n",
    "\n",
    "toolbar = NavigationToolbar2TkAgg(canvas, root)\n",
    "toolbar.update()\n",
    "canvas._tkcanvas.pack(side=Tk.TOP, fill=Tk.BOTH, expand=1)\n",
    "\n",
    "def _quit():\n",
    "    root.quit()     # stops mainloop\n",
    "    root.destroy()  # this is necessary on Windows to prevent\n",
    "                    # Fatal Python Error: PyEval_RestoreThread: NULL tstate\n",
    "button = Tk.Button(master=root, text='Quit', command=_quit)\n",
    "button.pack(side=Tk.BOTTOM)\n",
    "\n",
    "Tk.mainloop()"
   ]
  },
  {
   "cell_type": "code",
   "execution_count": null,
   "id": "91629615",
   "metadata": {},
   "outputs": [],
   "source": []
  }
 ],
 "metadata": {
  "kernelspec": {
   "display_name": "Python 3",
   "language": "python",
   "name": "python3"
  },
  "language_info": {
   "codemirror_mode": {
    "name": "ipython",
    "version": 3
   },
   "file_extension": ".py",
   "mimetype": "text/x-python",
   "name": "python",
   "nbconvert_exporter": "python",
   "pygments_lexer": "ipython3",
   "version": "3.8.8"
  }
 },
 "nbformat": 4,
 "nbformat_minor": 5
}
