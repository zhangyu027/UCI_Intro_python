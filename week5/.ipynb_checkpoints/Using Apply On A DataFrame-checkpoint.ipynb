{
 "cells": [
  {
   "cell_type": "markdown",
   "metadata": {},
   "source": [
    "# Using Apply On A DataFrame\n",
    "\n",
    "## Notebook Outline:\n",
    "* [Introduction to .apply()](#introtoapply)\n",
    "* [An example on our baby boy name data](#examplebabyname)\n",
    "* [Another example on our labor sheet data](#examplelaborsheet)"
   ]
  },
  {
   "cell_type": "markdown",
   "metadata": {},
   "source": [
    "<a name=introtoapply></a>\n",
    "# Introduction to .apply()\n",
    "\n",
    "The .apply() method we are going to learn about is exactly like the .apply() we learned about int our groupby lectures.  The only difference is that this the method for dataframes instead of groupby objects.\n",
    "\n",
    "The docs are here: <https://pandas.pydata.org/pandas-docs/stable/generated/pandas.DataFrame.apply.html>\n",
    "\n",
    "We are going to go back to our baby boy name data for our first example. So, let's load the data!"
   ]
  },
  {
   "cell_type": "markdown",
   "metadata": {},
   "source": [
    "<a name=examplebabyname></a>\n",
    "# An example of using .apply() on our baby boy name data:"
   ]
  },
  {
   "cell_type": "code",
   "execution_count": 12,
   "metadata": {},
   "outputs": [],
   "source": [
    "import pandas as pd\n",
    "\n",
    "filepath = ('/Users/yuzhang/Dropbox/Academia/Lecturer/I&C_SCI_X426.62/Assignments/Most_Popular_Baby_Boy_Names__Illinois_1980-2013.csv')\n",
    "nameData = pd.read_csv(filepath)"
   ]
  },
  {
   "cell_type": "markdown",
   "metadata": {},
   "source": [
    "#### Let's take a look at these name values again - we will use .unique() to do so:"
   ]
  },
  {
   "cell_type": "code",
   "execution_count": 13,
   "metadata": {},
   "outputs": [
    {
     "data": {
      "text/plain": [
       "array(['Michael', 'Jason', 'Christopher', 'Matthew', 'David', 'James',\n",
       "       'Robert', 'Daniel', 'John', 'Joseph', 'Brian', 'Joshua', 'Ryan',\n",
       "       'Nicholas', 'Eric', 'Justin', 'Timothy', 'William', 'Anthony',\n",
       "       'Andrew', 'Adam', 'Thomas', 'Kevin', 'Steven', 'Jeremy',\n",
       "       'Jonathan', 'Brandon', 'Kyle', 'Jospeh', 'Jonathon', 'Jacob',\n",
       "       'Zachary', 'Alexander', 'Tyler', 'Austin', 'Dylan', 'Benjamin',\n",
       "       'Ethan', 'Christian', 'Samuel', 'Zachery', 'Nathan', 'Jack',\n",
       "       'DANIEL', 'JACOB', 'MICHAEL', 'ALEXANDER', 'JOSHUA', 'ANTHONY',\n",
       "       'MATTHEW', 'JOSEPH', 'ETHAN', 'ANDREW', 'RYAN', 'CHRISTOPHER',\n",
       "       'NICHOLAS', 'DAVID', 'WILLIAM', 'NATHAN', 'JOHN', 'BENJAMIN',\n",
       "       'JAMES', 'TYLER', 'LOGAN', 'JACK', 'NOAH', 'JONATHAN', 'ANGEL',\n",
       "       'CHRISTIAN', 'JAYDEN', 'AIDEN', 'JACKSON', 'MASON', 'LUCAS',\n",
       "       'LIAM', 'GABRIEL', 'ELIJAH', 'HENRY'], dtype=object)"
      ]
     },
     "execution_count": 13,
     "metadata": {},
     "output_type": "execute_result"
    }
   ],
   "source": [
    "nameData['Name'].unique()"
   ]
  },
  {
   "cell_type": "markdown",
   "metadata": {},
   "source": [
    "#### Most likely, we don't want Michael and MICHAEL to count as two different names - let's fix that using .apply(), lambda, and .lower() to fix this problem!\n",
    "\n",
    "The basic idea here is want to lower case all of the names, this way all the 'Michael's will be changed to 'michael' and the 'MICHAEL's will be changed to 'michael'. Now every Michael will be counted as the same name! We can lower case string using the .lower() method, let's review this below."
   ]
  },
  {
   "cell_type": "code",
   "execution_count": 14,
   "metadata": {},
   "outputs": [
    {
     "name": "stdout",
     "output_type": "stream",
     "text": [
      "michael\n",
      "michael\n"
     ]
    }
   ],
   "source": [
    "name = 'MICHAEL'\n",
    "print(name.lower())\n",
    "\n",
    "# Note you can call .lower() directly on the string as well:\n",
    "print('MICHAEL'.lower())"
   ]
  },
  {
   "cell_type": "markdown",
   "metadata": {},
   "source": [
    "#### Now let's use .apply() to _apply_ the .lower() method to the all the names in the 'Names' column\n",
    "We have to wrap it in a lamabda function though! We can only pass _functions_ to the apply() method, we can not pass other methods. \n",
    "\n",
    "As a review, let's first write function that will convert a string to lower case."
   ]
  },
  {
   "cell_type": "code",
   "execution_count": 15,
   "metadata": {},
   "outputs": [
    {
     "data": {
      "text/plain": [
       "'michael'"
      ]
     },
     "execution_count": 15,
     "metadata": {},
     "output_type": "execute_result"
    }
   ],
   "source": [
    "def lowerString(aString):\n",
    "    lowerString = aString.lower()\n",
    "    return lowerString\n",
    "\n",
    "lowerString('MICHAEL')"
   ]
  },
  {
   "cell_type": "markdown",
   "metadata": {},
   "source": [
    "#### Let's now apply this function to the entire column of names"
   ]
  },
  {
   "cell_type": "code",
   "execution_count": 16,
   "metadata": {
    "run_control": {
     "marked": false
    }
   },
   "outputs": [
    {
     "data": {
      "text/plain": [
       "0          michael\n",
       "1            jason\n",
       "2      christopher\n",
       "3          matthew\n",
       "4            david\n",
       "          ...     \n",
       "845         nathan\n",
       "846         andrew\n",
       "847          henry\n",
       "848          david\n",
       "849           jack\n",
       "Name: Name, Length: 850, dtype: object"
      ]
     },
     "execution_count": 16,
     "metadata": {},
     "output_type": "execute_result"
    }
   ],
   "source": [
    "nameData['Name'].apply(lowerString)"
   ]
  },
  {
   "cell_type": "markdown",
   "metadata": {},
   "source": [
    "#### Now, let's do the same, but use a _lambda_ function instead!"
   ]
  },
  {
   "cell_type": "code",
   "execution_count": 17,
   "metadata": {},
   "outputs": [
    {
     "data": {
      "text/plain": [
       "0          michael\n",
       "1            jason\n",
       "2      christopher\n",
       "3          matthew\n",
       "4            david\n",
       "          ...     \n",
       "845         nathan\n",
       "846         andrew\n",
       "847          henry\n",
       "848          david\n",
       "849           jack\n",
       "Name: Name, Length: 850, dtype: object"
      ]
     },
     "execution_count": 17,
     "metadata": {},
     "output_type": "execute_result"
    }
   ],
   "source": [
    "nameData['Name'].apply(lambda x: x.lower())"
   ]
  },
  {
   "cell_type": "markdown",
   "metadata": {},
   "source": [
    "#### Now let's actually update the values in the dataset:"
   ]
  },
  {
   "cell_type": "code",
   "execution_count": 18,
   "metadata": {},
   "outputs": [],
   "source": [
    "nameData.loc[:, 'Name'] = nameData['Name'].apply(lambda x: x.lower())"
   ]
  },
  {
   "cell_type": "markdown",
   "metadata": {},
   "source": [
    "#### Now we are free to groupby the names!"
   ]
  },
  {
   "cell_type": "code",
   "execution_count": 19,
   "metadata": {},
   "outputs": [
    {
     "data": {
      "text/plain": [
       "Name\n",
       "michael    1.705882\n",
       "jacob      3.833333\n",
       "daniel     4.441176\n",
       "matthew    5.176471\n",
       "liam       7.666667\n",
       "Name: Rank, dtype: float64"
      ]
     },
     "execution_count": 19,
     "metadata": {},
     "output_type": "execute_result"
    }
   ],
   "source": [
    "nameData.groupby('Name')['Rank'].mean().sort_values().head(5)"
   ]
  },
  {
   "cell_type": "markdown",
   "metadata": {},
   "source": [
    "<a name=examplelaborsheet></a>\n",
    "# Another example of apply on our labor sheet data"
   ]
  },
  {
   "cell_type": "code",
   "execution_count": 20,
   "metadata": {},
   "outputs": [
    {
     "data": {
      "text/html": [
       "<div>\n",
       "<style scoped>\n",
       "    .dataframe tbody tr th:only-of-type {\n",
       "        vertical-align: middle;\n",
       "    }\n",
       "\n",
       "    .dataframe tbody tr th {\n",
       "        vertical-align: top;\n",
       "    }\n",
       "\n",
       "    .dataframe thead th {\n",
       "        text-align: right;\n",
       "    }\n",
       "</style>\n",
       "<table border=\"1\" class=\"dataframe\">\n",
       "  <thead>\n",
       "    <tr style=\"text-align: right;\">\n",
       "      <th></th>\n",
       "      <th>Date_Hour</th>\n",
       "      <th>Store</th>\n",
       "      <th>Manager</th>\n",
       "      <th>Projected Sales</th>\n",
       "      <th>Sales</th>\n",
       "      <th>DT TTL</th>\n",
       "      <th>KVS Total</th>\n",
       "      <th>Hrs +/- (Actual vs Need)</th>\n",
       "      <th>Accum Hrs +/- (Act vs Need)</th>\n",
       "      <th>Reason for +/- Labor</th>\n",
       "      <th>Reason for High TTL's</th>\n",
       "      <th>Manager Entering Data</th>\n",
       "      <th>TimeStamp</th>\n",
       "    </tr>\n",
       "  </thead>\n",
       "  <tbody>\n",
       "    <tr>\n",
       "      <th>0</th>\n",
       "      <td>2017-02-04 07:00:00</td>\n",
       "      <td>4007</td>\n",
       "      <td>Monica H</td>\n",
       "      <td>281.0</td>\n",
       "      <td>296.0</td>\n",
       "      <td>192</td>\n",
       "      <td>117</td>\n",
       "      <td>-1.00</td>\n",
       "      <td>1.00</td>\n",
       "      <td>NaN</td>\n",
       "      <td>NaN</td>\n",
       "      <td>NaN</td>\n",
       "      <td>2017-02-04 07:10:00</td>\n",
       "    </tr>\n",
       "    <tr>\n",
       "      <th>1</th>\n",
       "      <td>2017-02-04 08:00:00</td>\n",
       "      <td>4007</td>\n",
       "      <td>David H</td>\n",
       "      <td>670.0</td>\n",
       "      <td>347.0</td>\n",
       "      <td>111</td>\n",
       "      <td>97</td>\n",
       "      <td>2.39</td>\n",
       "      <td>2.39</td>\n",
       "      <td>NaN</td>\n",
       "      <td>NaN</td>\n",
       "      <td>NaN</td>\n",
       "      <td>2017-02-04 08:04:00</td>\n",
       "    </tr>\n",
       "    <tr>\n",
       "      <th>2</th>\n",
       "      <td>2017-02-03 09:00:00</td>\n",
       "      <td>4007</td>\n",
       "      <td>David H</td>\n",
       "      <td>784.0</td>\n",
       "      <td>649.0</td>\n",
       "      <td>143</td>\n",
       "      <td>73</td>\n",
       "      <td>0.18</td>\n",
       "      <td>0.18</td>\n",
       "      <td>NaN</td>\n",
       "      <td>NaN</td>\n",
       "      <td>NaN</td>\n",
       "      <td>2017-02-03 18:41:00</td>\n",
       "    </tr>\n",
       "    <tr>\n",
       "      <th>3</th>\n",
       "      <td>2017-02-04 10:00:00</td>\n",
       "      <td>4007</td>\n",
       "      <td>David H</td>\n",
       "      <td>852.0</td>\n",
       "      <td>750.0</td>\n",
       "      <td>158</td>\n",
       "      <td>85</td>\n",
       "      <td>0.75</td>\n",
       "      <td>3.25</td>\n",
       "      <td>NaN</td>\n",
       "      <td>NaN</td>\n",
       "      <td>NaN</td>\n",
       "      <td>2017-02-04 10:06:00</td>\n",
       "    </tr>\n",
       "    <tr>\n",
       "      <th>4</th>\n",
       "      <td>2017-02-05 05:00:00</td>\n",
       "      <td>4007</td>\n",
       "      <td>Zoey D</td>\n",
       "      <td>54.0</td>\n",
       "      <td>108.0</td>\n",
       "      <td>104</td>\n",
       "      <td>45</td>\n",
       "      <td>-1.50</td>\n",
       "      <td>-1.50</td>\n",
       "      <td>NaN</td>\n",
       "      <td>NaN</td>\n",
       "      <td>NaN</td>\n",
       "      <td>2017-02-05 10:57:00</td>\n",
       "    </tr>\n",
       "  </tbody>\n",
       "</table>\n",
       "</div>"
      ],
      "text/plain": [
       "            Date_Hour  Store   Manager  Projected Sales  Sales  DT TTL  \\\n",
       "0 2017-02-04 07:00:00   4007  Monica H            281.0  296.0     192   \n",
       "1 2017-02-04 08:00:00   4007   David H            670.0  347.0     111   \n",
       "2 2017-02-03 09:00:00   4007   David H            784.0  649.0     143   \n",
       "3 2017-02-04 10:00:00   4007   David H            852.0  750.0     158   \n",
       "4 2017-02-05 05:00:00   4007    Zoey D             54.0  108.0     104   \n",
       "\n",
       "   KVS Total  Hrs +/- (Actual vs Need)  Accum Hrs +/- (Act vs Need)  \\\n",
       "0        117                     -1.00                         1.00   \n",
       "1         97                      2.39                         2.39   \n",
       "2         73                      0.18                         0.18   \n",
       "3         85                      0.75                         3.25   \n",
       "4         45                     -1.50                        -1.50   \n",
       "\n",
       "  Reason for +/- Labor Reason for High TTL's  Manager Entering Data  \\\n",
       "0                  NaN                   NaN                    NaN   \n",
       "1                  NaN                   NaN                    NaN   \n",
       "2                  NaN                   NaN                    NaN   \n",
       "3                  NaN                   NaN                    NaN   \n",
       "4                  NaN                   NaN                    NaN   \n",
       "\n",
       "            TimeStamp  \n",
       "0 2017-02-04 07:10:00  \n",
       "1 2017-02-04 08:04:00  \n",
       "2 2017-02-03 18:41:00  \n",
       "3 2017-02-04 10:06:00  \n",
       "4 2017-02-05 10:57:00  "
      ]
     },
     "execution_count": 20,
     "metadata": {},
     "output_type": "execute_result"
    }
   ],
   "source": [
    "filepath = ('/Users/yuzhang/Dropbox/Academia/Lecturer/I&C_SCI_X426.62/Assignments/LaborSheetData.csv')\n",
    "laborSheetData = pd.read_csv(filepath, parse_dates=[[2, 3], 13])\n",
    "laborSheetData.head()"
   ]
  },
  {
   "cell_type": "markdown",
   "metadata": {},
   "source": [
    "#### Let's calculate the difference between 'TimeStamp' and 'Date_Hour' using .apply() and lambda. Because we are applying the apply() to the whole dataframe, we have to specific the axis that we will be apply the function across - this is confusing, so said another way if you want to apply the function every column then axis will equal 0, if you want to apply the function to every row, axis will equal 1\n"
   ]
  },
  {
   "cell_type": "code",
   "execution_count": 21,
   "metadata": {},
   "outputs": [],
   "source": [
    "laborSheetData['lateEnteringData'] = laborSheetData.apply(lambda x: x['TimeStamp'] - x['Date_Hour'], axis=1)"
   ]
  },
  {
   "cell_type": "code",
   "execution_count": 22,
   "metadata": {},
   "outputs": [
    {
     "data": {
      "text/html": [
       "<div>\n",
       "<style scoped>\n",
       "    .dataframe tbody tr th:only-of-type {\n",
       "        vertical-align: middle;\n",
       "    }\n",
       "\n",
       "    .dataframe tbody tr th {\n",
       "        vertical-align: top;\n",
       "    }\n",
       "\n",
       "    .dataframe thead th {\n",
       "        text-align: right;\n",
       "    }\n",
       "</style>\n",
       "<table border=\"1\" class=\"dataframe\">\n",
       "  <thead>\n",
       "    <tr style=\"text-align: right;\">\n",
       "      <th></th>\n",
       "      <th>Date_Hour</th>\n",
       "      <th>Store</th>\n",
       "      <th>Manager</th>\n",
       "      <th>Projected Sales</th>\n",
       "      <th>Sales</th>\n",
       "      <th>DT TTL</th>\n",
       "      <th>KVS Total</th>\n",
       "      <th>Hrs +/- (Actual vs Need)</th>\n",
       "      <th>Accum Hrs +/- (Act vs Need)</th>\n",
       "      <th>Reason for +/- Labor</th>\n",
       "      <th>Reason for High TTL's</th>\n",
       "      <th>Manager Entering Data</th>\n",
       "      <th>TimeStamp</th>\n",
       "      <th>lateEnteringData</th>\n",
       "    </tr>\n",
       "  </thead>\n",
       "  <tbody>\n",
       "    <tr>\n",
       "      <th>0</th>\n",
       "      <td>2017-02-04 07:00:00</td>\n",
       "      <td>4007</td>\n",
       "      <td>Monica H</td>\n",
       "      <td>281.0</td>\n",
       "      <td>296.0</td>\n",
       "      <td>192</td>\n",
       "      <td>117</td>\n",
       "      <td>-1.00</td>\n",
       "      <td>1.00</td>\n",
       "      <td>NaN</td>\n",
       "      <td>NaN</td>\n",
       "      <td>NaN</td>\n",
       "      <td>2017-02-04 07:10:00</td>\n",
       "      <td>0 days 00:10:00</td>\n",
       "    </tr>\n",
       "    <tr>\n",
       "      <th>1</th>\n",
       "      <td>2017-02-04 08:00:00</td>\n",
       "      <td>4007</td>\n",
       "      <td>David H</td>\n",
       "      <td>670.0</td>\n",
       "      <td>347.0</td>\n",
       "      <td>111</td>\n",
       "      <td>97</td>\n",
       "      <td>2.39</td>\n",
       "      <td>2.39</td>\n",
       "      <td>NaN</td>\n",
       "      <td>NaN</td>\n",
       "      <td>NaN</td>\n",
       "      <td>2017-02-04 08:04:00</td>\n",
       "      <td>0 days 00:04:00</td>\n",
       "    </tr>\n",
       "    <tr>\n",
       "      <th>2</th>\n",
       "      <td>2017-02-03 09:00:00</td>\n",
       "      <td>4007</td>\n",
       "      <td>David H</td>\n",
       "      <td>784.0</td>\n",
       "      <td>649.0</td>\n",
       "      <td>143</td>\n",
       "      <td>73</td>\n",
       "      <td>0.18</td>\n",
       "      <td>0.18</td>\n",
       "      <td>NaN</td>\n",
       "      <td>NaN</td>\n",
       "      <td>NaN</td>\n",
       "      <td>2017-02-03 18:41:00</td>\n",
       "      <td>0 days 09:41:00</td>\n",
       "    </tr>\n",
       "  </tbody>\n",
       "</table>\n",
       "</div>"
      ],
      "text/plain": [
       "            Date_Hour  Store   Manager  Projected Sales  Sales  DT TTL  \\\n",
       "0 2017-02-04 07:00:00   4007  Monica H            281.0  296.0     192   \n",
       "1 2017-02-04 08:00:00   4007   David H            670.0  347.0     111   \n",
       "2 2017-02-03 09:00:00   4007   David H            784.0  649.0     143   \n",
       "\n",
       "   KVS Total  Hrs +/- (Actual vs Need)  Accum Hrs +/- (Act vs Need)  \\\n",
       "0        117                     -1.00                         1.00   \n",
       "1         97                      2.39                         2.39   \n",
       "2         73                      0.18                         0.18   \n",
       "\n",
       "  Reason for +/- Labor Reason for High TTL's  Manager Entering Data  \\\n",
       "0                  NaN                   NaN                    NaN   \n",
       "1                  NaN                   NaN                    NaN   \n",
       "2                  NaN                   NaN                    NaN   \n",
       "\n",
       "            TimeStamp lateEnteringData  \n",
       "0 2017-02-04 07:10:00  0 days 00:10:00  \n",
       "1 2017-02-04 08:04:00  0 days 00:04:00  \n",
       "2 2017-02-03 18:41:00  0 days 09:41:00  "
      ]
     },
     "execution_count": 22,
     "metadata": {},
     "output_type": "execute_result"
    }
   ],
   "source": [
    "laborSheetData.head(3)"
   ]
  },
  {
   "cell_type": "code",
   "execution_count": null,
   "metadata": {},
   "outputs": [],
   "source": []
  }
 ],
 "metadata": {
  "hide_input": false,
  "kernelspec": {
   "display_name": "Python 3",
   "language": "python",
   "name": "python3"
  },
  "language_info": {
   "codemirror_mode": {
    "name": "ipython",
    "version": 3
   },
   "file_extension": ".py",
   "mimetype": "text/x-python",
   "name": "python",
   "nbconvert_exporter": "python",
   "pygments_lexer": "ipython3",
   "version": "3.8.8"
  }
 },
 "nbformat": 4,
 "nbformat_minor": 2
}
