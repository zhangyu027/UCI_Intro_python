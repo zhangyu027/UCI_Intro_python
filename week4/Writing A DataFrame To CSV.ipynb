{
 "cells": [
  {
   "cell_type": "markdown",
   "metadata": {},
   "source": [
    "# Writing A DataFrame  To CSV\n",
    "In this lesson we will discuss how you can save your data to csv.  This of course isn't the only way to write out or save data, but this is a common way, so we want to review it.\n",
    "\n",
    "## Notebook Outline:\n",
    "* [Using the .to_csv() method](#usingtocsv)"
   ]
  },
  {
   "cell_type": "markdown",
   "metadata": {},
   "source": [
    "<a name=usingtocsv></a>\n",
    "# Using the .to_csv() method\n",
    "Writing a DataFrame to csv is simple, we just need to use the .to_csv() method. The documentation is here: <https://pandas.pydata.org/pandas-docs/stable/generated/pandas.DataFrame.to_csv.html>\n",
    "\n",
    "In order to have an example, I am going to load the weather data that we have been using in this course. I am going to convert the celsius temperature to fahrenheit and then I am going to write out to a new file."
   ]
  },
  {
   "cell_type": "code",
   "execution_count": 1,
   "metadata": {},
   "outputs": [],
   "source": [
    "import pandas as pd"
   ]
  },
  {
   "cell_type": "markdown",
   "metadata": {},
   "source": [
    "#### Load the data:"
   ]
  },
  {
   "cell_type": "code",
   "execution_count": 2,
   "metadata": {},
   "outputs": [],
   "source": [
    "# First we load the data, specifying the column names, like we saw in a previous\n",
    "# lecture\n",
    "filepath = ('/Users/yuzhang/Dropbox/Academia/Lecturer/I&C_SCI_X426.62/724080-13739-2001')\n",
    "headers = ['Year', 'Month', 'Day', 'Hour', 'Air Temp', 'Dew Point Temp', 'Sea Level Pressure',\n",
    "           'Wind Direction', 'Wind Speed Rate',\n",
    "           'Sky Condition Total Coverage Code',\n",
    "           'Liquid Precipitation Depth Dimension - 1Hr Duration',\n",
    "           'Liquid Precipitation Depth Dimension - Six Hour Duration']\n",
    "weatherData = pd.read_csv(filepath, delim_whitespace=True,\n",
    "                          names=headers)"
   ]
  },
  {
   "cell_type": "code",
   "execution_count": 3,
   "metadata": {},
   "outputs": [
    {
     "data": {
      "text/html": [
       "<div>\n",
       "<style scoped>\n",
       "    .dataframe tbody tr th:only-of-type {\n",
       "        vertical-align: middle;\n",
       "    }\n",
       "\n",
       "    .dataframe tbody tr th {\n",
       "        vertical-align: top;\n",
       "    }\n",
       "\n",
       "    .dataframe thead th {\n",
       "        text-align: right;\n",
       "    }\n",
       "</style>\n",
       "<table border=\"1\" class=\"dataframe\">\n",
       "  <thead>\n",
       "    <tr style=\"text-align: right;\">\n",
       "      <th></th>\n",
       "      <th>Year</th>\n",
       "      <th>Month</th>\n",
       "      <th>Day</th>\n",
       "      <th>Hour</th>\n",
       "      <th>Air Temp</th>\n",
       "      <th>Dew Point Temp</th>\n",
       "      <th>Sea Level Pressure</th>\n",
       "      <th>Wind Direction</th>\n",
       "      <th>Wind Speed Rate</th>\n",
       "      <th>Sky Condition Total Coverage Code</th>\n",
       "      <th>Liquid Precipitation Depth Dimension - 1Hr Duration</th>\n",
       "      <th>Liquid Precipitation Depth Dimension - Six Hour Duration</th>\n",
       "    </tr>\n",
       "  </thead>\n",
       "  <tbody>\n",
       "    <tr>\n",
       "      <th>0</th>\n",
       "      <td>2001</td>\n",
       "      <td>1</td>\n",
       "      <td>1</td>\n",
       "      <td>0</td>\n",
       "      <td>-6</td>\n",
       "      <td>-94</td>\n",
       "      <td>10146</td>\n",
       "      <td>280</td>\n",
       "      <td>57</td>\n",
       "      <td>2</td>\n",
       "      <td>0</td>\n",
       "      <td>-9999</td>\n",
       "    </tr>\n",
       "    <tr>\n",
       "      <th>1</th>\n",
       "      <td>2001</td>\n",
       "      <td>1</td>\n",
       "      <td>1</td>\n",
       "      <td>1</td>\n",
       "      <td>-11</td>\n",
       "      <td>-94</td>\n",
       "      <td>10153</td>\n",
       "      <td>280</td>\n",
       "      <td>57</td>\n",
       "      <td>4</td>\n",
       "      <td>0</td>\n",
       "      <td>-9999</td>\n",
       "    </tr>\n",
       "    <tr>\n",
       "      <th>2</th>\n",
       "      <td>2001</td>\n",
       "      <td>1</td>\n",
       "      <td>1</td>\n",
       "      <td>2</td>\n",
       "      <td>-17</td>\n",
       "      <td>-106</td>\n",
       "      <td>10161</td>\n",
       "      <td>290</td>\n",
       "      <td>62</td>\n",
       "      <td>2</td>\n",
       "      <td>0</td>\n",
       "      <td>-9999</td>\n",
       "    </tr>\n",
       "    <tr>\n",
       "      <th>3</th>\n",
       "      <td>2001</td>\n",
       "      <td>1</td>\n",
       "      <td>1</td>\n",
       "      <td>3</td>\n",
       "      <td>-28</td>\n",
       "      <td>-100</td>\n",
       "      <td>10169</td>\n",
       "      <td>260</td>\n",
       "      <td>57</td>\n",
       "      <td>0</td>\n",
       "      <td>0</td>\n",
       "      <td>-9999</td>\n",
       "    </tr>\n",
       "    <tr>\n",
       "      <th>4</th>\n",
       "      <td>2001</td>\n",
       "      <td>1</td>\n",
       "      <td>1</td>\n",
       "      <td>4</td>\n",
       "      <td>-28</td>\n",
       "      <td>-100</td>\n",
       "      <td>10177</td>\n",
       "      <td>260</td>\n",
       "      <td>52</td>\n",
       "      <td>0</td>\n",
       "      <td>0</td>\n",
       "      <td>-9999</td>\n",
       "    </tr>\n",
       "  </tbody>\n",
       "</table>\n",
       "</div>"
      ],
      "text/plain": [
       "   Year  Month  Day  Hour  Air Temp  Dew Point Temp  Sea Level Pressure  \\\n",
       "0  2001      1    1     0        -6             -94               10146   \n",
       "1  2001      1    1     1       -11             -94               10153   \n",
       "2  2001      1    1     2       -17            -106               10161   \n",
       "3  2001      1    1     3       -28            -100               10169   \n",
       "4  2001      1    1     4       -28            -100               10177   \n",
       "\n",
       "   Wind Direction  Wind Speed Rate  Sky Condition Total Coverage Code  \\\n",
       "0             280               57                                  2   \n",
       "1             280               57                                  4   \n",
       "2             290               62                                  2   \n",
       "3             260               57                                  0   \n",
       "4             260               52                                  0   \n",
       "\n",
       "   Liquid Precipitation Depth Dimension - 1Hr Duration  \\\n",
       "0                                                  0     \n",
       "1                                                  0     \n",
       "2                                                  0     \n",
       "3                                                  0     \n",
       "4                                                  0     \n",
       "\n",
       "   Liquid Precipitation Depth Dimension - Six Hour Duration  \n",
       "0                                              -9999         \n",
       "1                                              -9999         \n",
       "2                                              -9999         \n",
       "3                                              -9999         \n",
       "4                                              -9999         "
      ]
     },
     "execution_count": 3,
     "metadata": {},
     "output_type": "execute_result"
    }
   ],
   "source": [
    "weatherData.head()"
   ]
  },
  {
   "cell_type": "markdown",
   "metadata": {},
   "source": [
    "#### Convert the 'Air Temp' from Celsius to Fahrenheit"
   ]
  },
  {
   "cell_type": "code",
   "execution_count": 4,
   "metadata": {},
   "outputs": [],
   "source": [
    "# Now we will convert the Air Temp column to fahrenheit. First we need to divide\n",
    "# the column by 10 (that is because the data is scaled by 10, i.e. -6 is really -0.6 celsius)\n",
    "# this is covered in the data documentation discussed in a previous lecture.\n",
    "# After dividing by 10, we convert from celsius to fahrenheit using the formula\n",
    "# F = C * 1.8 + 32\n",
    "weatherData.loc[:, 'Air Temp'] = (weatherData['Air Temp']/10) * 1.8 + 32"
   ]
  },
  {
   "cell_type": "code",
   "execution_count": 5,
   "metadata": {},
   "outputs": [
    {
     "data": {
      "text/html": [
       "<div>\n",
       "<style scoped>\n",
       "    .dataframe tbody tr th:only-of-type {\n",
       "        vertical-align: middle;\n",
       "    }\n",
       "\n",
       "    .dataframe tbody tr th {\n",
       "        vertical-align: top;\n",
       "    }\n",
       "\n",
       "    .dataframe thead th {\n",
       "        text-align: right;\n",
       "    }\n",
       "</style>\n",
       "<table border=\"1\" class=\"dataframe\">\n",
       "  <thead>\n",
       "    <tr style=\"text-align: right;\">\n",
       "      <th></th>\n",
       "      <th>Year</th>\n",
       "      <th>Month</th>\n",
       "      <th>Day</th>\n",
       "      <th>Hour</th>\n",
       "      <th>Air Temp</th>\n",
       "      <th>Dew Point Temp</th>\n",
       "      <th>Sea Level Pressure</th>\n",
       "      <th>Wind Direction</th>\n",
       "      <th>Wind Speed Rate</th>\n",
       "      <th>Sky Condition Total Coverage Code</th>\n",
       "      <th>Liquid Precipitation Depth Dimension - 1Hr Duration</th>\n",
       "      <th>Liquid Precipitation Depth Dimension - Six Hour Duration</th>\n",
       "    </tr>\n",
       "  </thead>\n",
       "  <tbody>\n",
       "    <tr>\n",
       "      <th>0</th>\n",
       "      <td>2001</td>\n",
       "      <td>1</td>\n",
       "      <td>1</td>\n",
       "      <td>0</td>\n",
       "      <td>30.92</td>\n",
       "      <td>-94</td>\n",
       "      <td>10146</td>\n",
       "      <td>280</td>\n",
       "      <td>57</td>\n",
       "      <td>2</td>\n",
       "      <td>0</td>\n",
       "      <td>-9999</td>\n",
       "    </tr>\n",
       "    <tr>\n",
       "      <th>1</th>\n",
       "      <td>2001</td>\n",
       "      <td>1</td>\n",
       "      <td>1</td>\n",
       "      <td>1</td>\n",
       "      <td>30.02</td>\n",
       "      <td>-94</td>\n",
       "      <td>10153</td>\n",
       "      <td>280</td>\n",
       "      <td>57</td>\n",
       "      <td>4</td>\n",
       "      <td>0</td>\n",
       "      <td>-9999</td>\n",
       "    </tr>\n",
       "  </tbody>\n",
       "</table>\n",
       "</div>"
      ],
      "text/plain": [
       "   Year  Month  Day  Hour  Air Temp  Dew Point Temp  Sea Level Pressure  \\\n",
       "0  2001      1    1     0     30.92             -94               10146   \n",
       "1  2001      1    1     1     30.02             -94               10153   \n",
       "\n",
       "   Wind Direction  Wind Speed Rate  Sky Condition Total Coverage Code  \\\n",
       "0             280               57                                  2   \n",
       "1             280               57                                  4   \n",
       "\n",
       "   Liquid Precipitation Depth Dimension - 1Hr Duration  \\\n",
       "0                                                  0     \n",
       "1                                                  0     \n",
       "\n",
       "   Liquid Precipitation Depth Dimension - Six Hour Duration  \n",
       "0                                              -9999         \n",
       "1                                              -9999         "
      ]
     },
     "execution_count": 5,
     "metadata": {},
     "output_type": "execute_result"
    }
   ],
   "source": [
    "weatherData.head(2)"
   ]
  },
  {
   "cell_type": "markdown",
   "metadata": {},
   "source": [
    "#### Write the data to csv using .to_csv() - and use the index=False argument!"
   ]
  },
  {
   "cell_type": "code",
   "execution_count": 6,
   "metadata": {},
   "outputs": [],
   "source": [
    "savepath = ('/Users/yuzhang/Dropbox/Academia/Lecturer/I&C_SCI_X426.62/724080-13739-2001_F')\n",
    "weatherData.to_csv(savepath, index=False)"
   ]
  },
  {
   "cell_type": "markdown",
   "metadata": {},
   "source": [
    "![](Success!.png)"
   ]
  },
  {
   "cell_type": "code",
   "execution_count": null,
   "metadata": {},
   "outputs": [],
   "source": []
  }
 ],
 "metadata": {
  "hide_input": false,
  "kernelspec": {
   "display_name": "Python 3",
   "language": "python",
   "name": "python3"
  },
  "language_info": {
   "codemirror_mode": {
    "name": "ipython",
    "version": 3
   },
   "file_extension": ".py",
   "mimetype": "text/x-python",
   "name": "python",
   "nbconvert_exporter": "python",
   "pygments_lexer": "ipython3",
   "version": "3.8.8"
  }
 },
 "nbformat": 4,
 "nbformat_minor": 2
}
