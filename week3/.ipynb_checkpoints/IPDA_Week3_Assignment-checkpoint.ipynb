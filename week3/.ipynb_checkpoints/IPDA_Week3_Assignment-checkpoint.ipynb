{
 "cells": [
  {
   "cell_type": "markdown",
   "metadata": {},
   "source": [
    "# Introduction To Python For Data Analysis Week 3 Homework"
   ]
  },
  {
   "cell_type": "markdown",
   "metadata": {},
   "source": [
    "## Instructions\n",
    "In the cell below please complete the function.  The function takes two arguments.  The first argument is a the names dataframe that we have used in class, the second argument is _name_.  The function should return a new dataframe that only contains the rows where the 'Name' column equals the _name_ argument.\n",
    "\n",
    "You normally would not wrap this code inside a function - it is too simple to put inside a function, but putting the code inside a functions assists the grader."
   ]
  },
  {
   "cell_type": "code",
   "execution_count": null,
   "metadata": {
    "deletable": false,
    "nbgrader": {
     "checksum": "5ec39602d5380906950703c2b4070319",
     "grade": false,
     "grade_id": "problem1",
     "locked": false,
     "schema_version": 1,
     "solution": true
    }
   },
   "outputs": [],
   "source": [
    "def returnDataForOneName(namesDF, name):\n",
    "    '''\n",
    "    Please return from this function the rows from namesDF where the 'Name'\n",
    "    column is equal to the name argument that is passed to this function.\n",
    "    \n",
    "    REMOVE the line \"raise NotImplementedError()\". This is how I know you have\n",
    "    edited this at all.\n",
    "    \n",
    "    Again - be sure to REMOVE the line \"raise NotImplementedError()\"\n",
    "    '''\n",
    "    # YOUR CODE HERE\n",
    "    raise NotImplementedError()"
   ]
  },
  {
   "cell_type": "markdown",
   "metadata": {},
   "source": [
    "## Test your function in the cell below:"
   ]
  },
  {
   "cell_type": "code",
   "execution_count": null,
   "metadata": {},
   "outputs": [],
   "source": [
    "import pandas as pd\n",
    "name_data_path = '' # change this to the path of the name data file on your computer\n",
    "# Now load the data:\n",
    "nameDF = pd.read_csv(name_data_path) \n",
    "newDF = returnDataForOneName(nameDF, 'Michael')\n",
    "\n",
    "# Now use some of the methods we have used to explore dataframes (like .head)\n",
    "# to see if newDF only contains rows where \"Name\" equals 'Michael'. Then \n",
    "# change the name you are passing to the function and try again - this function\n",
    "# must work for other names, not just 'Michael'."
   ]
  },
  {
   "cell_type": "code",
   "execution_count": null,
   "metadata": {
    "deletable": false,
    "editable": false,
    "nbgrader": {
     "checksum": "6df6ebcd096e8a72494f3de9e8205dff",
     "grade": true,
     "grade_id": "cell-3394036ddfef81d0",
     "locked": true,
     "points": 20,
     "schema_version": 1,
     "solution": false
    }
   },
   "outputs": [],
   "source": []
  },
  {
   "cell_type": "code",
   "execution_count": null,
   "metadata": {},
   "outputs": [],
   "source": []
  }
 ],
 "metadata": {
  "hide_input": false,
  "kernelspec": {
   "display_name": "Python 3",
   "language": "python",
   "name": "python3"
  },
  "language_info": {
   "codemirror_mode": {
    "name": "ipython",
    "version": 3
   },
   "file_extension": ".py",
   "mimetype": "text/x-python",
   "name": "python",
   "nbconvert_exporter": "python",
   "pygments_lexer": "ipython3",
   "version": "3.8.8"
  }
 },
 "nbformat": 4,
 "nbformat_minor": 2
}
