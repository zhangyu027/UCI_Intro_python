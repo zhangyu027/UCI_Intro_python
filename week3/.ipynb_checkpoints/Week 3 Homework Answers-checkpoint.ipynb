{
 "cells": [
  {
   "cell_type": "markdown",
   "metadata": {},
   "source": [
    "# Week 3 Homework Answers\n",
    "\n",
    "This notebook contains an example answer for the week 3 homework. There our multiple ways to answer this problem. The answer here only use what we have learned in class. (There are other ways using techniques / functions we have not yet learned)"
   ]
  },
  {
   "cell_type": "code",
   "execution_count": 1,
   "metadata": {
    "deletable": false,
    "nbgrader": {
     "cell_type": "code",
     "checksum": "5ec39602d5380906950703c2b4070319",
     "grade": false,
     "grade_id": "problem1",
     "locked": false,
     "schema_version": 3,
     "solution": true
    }
   },
   "outputs": [],
   "source": [
    "def returnDataForOneName(namesDF, name):\n",
    "    '''\n",
    "    Return the rows of the dataframe, namesDF, where the 'Name' column equal \n",
    "    the value of the name argument.\n",
    "\n",
    "    '''\n",
    "    dataFRAME = namesDF.loc[namesDF['Name'] == name, :]\n",
    "    return dataFRAME"
   ]
  },
  {
   "cell_type": "code",
   "execution_count": null,
   "metadata": {
    "deletable": false,
    "editable": false,
    "nbgrader": {
     "cell_type": "code",
     "checksum": "6df6ebcd096e8a72494f3de9e8205dff",
     "grade": true,
     "grade_id": "cell-3394036ddfef81d0",
     "locked": true,
     "points": 20,
     "schema_version": 3,
     "solution": false
    }
   },
   "outputs": [],
   "source": []
  }
 ],
 "metadata": {
  "hide_input": false,
  "kernelspec": {
   "display_name": "Python 3",
   "language": "python",
   "name": "python3"
  },
  "language_info": {
   "codemirror_mode": {
    "name": "ipython",
    "version": 3
   },
   "file_extension": ".py",
   "mimetype": "text/x-python",
   "name": "python",
   "nbconvert_exporter": "python",
   "pygments_lexer": "ipython3",
   "version": "3.8.8"
  }
 },
 "nbformat": 4,
 "nbformat_minor": 2
}
